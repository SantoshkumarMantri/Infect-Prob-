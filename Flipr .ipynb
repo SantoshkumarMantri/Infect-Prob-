{
 "cells": [
  {
   "cell_type": "code",
   "execution_count": 99,
   "metadata": {},
   "outputs": [],
   "source": [
    "import pandas as pd\n",
    "import numpy as np\n",
    "import matplotlib.pyplot as plt\n",
    "import seaborn as sns"
   ]
  },
  {
   "cell_type": "code",
   "execution_count": 100,
   "metadata": {},
   "outputs": [],
   "source": [
    "from sklearn.model_selection import train_test_split\n",
    "from sklearn.metrics import mean_absolute_error"
   ]
  },
  {
   "cell_type": "code",
   "execution_count": 101,
   "metadata": {},
   "outputs": [],
   "source": [
    "data= pd.read_excel('D:\\Downloads\\Train_dataset.xlsx')"
   ]
  },
  {
   "cell_type": "code",
   "execution_count": 102,
   "metadata": {},
   "outputs": [
    {
     "data": {
      "text/html": [
       "<div>\n",
       "<style scoped>\n",
       "    .dataframe tbody tr th:only-of-type {\n",
       "        vertical-align: middle;\n",
       "    }\n",
       "\n",
       "    .dataframe tbody tr th {\n",
       "        vertical-align: top;\n",
       "    }\n",
       "\n",
       "    .dataframe thead th {\n",
       "        text-align: right;\n",
       "    }\n",
       "</style>\n",
       "<table border=\"1\" class=\"dataframe\">\n",
       "  <thead>\n",
       "    <tr style=\"text-align: right;\">\n",
       "      <th></th>\n",
       "      <th>people_ID</th>\n",
       "      <th>Region</th>\n",
       "      <th>Gender</th>\n",
       "      <th>Designation</th>\n",
       "      <th>Name</th>\n",
       "      <th>Married</th>\n",
       "      <th>Children</th>\n",
       "      <th>Occupation</th>\n",
       "      <th>Mode_transport</th>\n",
       "      <th>cases/1M</th>\n",
       "      <th>...</th>\n",
       "      <th>HBB</th>\n",
       "      <th>d-dimer</th>\n",
       "      <th>Heart rate</th>\n",
       "      <th>HDL cholesterol</th>\n",
       "      <th>Charlson Index</th>\n",
       "      <th>Blood Glucose</th>\n",
       "      <th>Insurance</th>\n",
       "      <th>salary</th>\n",
       "      <th>FT/month</th>\n",
       "      <th>Infect_Prob</th>\n",
       "    </tr>\n",
       "  </thead>\n",
       "  <tbody>\n",
       "    <tr>\n",
       "      <td>0</td>\n",
       "      <td>1</td>\n",
       "      <td>Bhubaneshwar</td>\n",
       "      <td>Female</td>\n",
       "      <td>Mrs</td>\n",
       "      <td>mansi</td>\n",
       "      <td>YES</td>\n",
       "      <td>1.0</td>\n",
       "      <td>Farmer</td>\n",
       "      <td>Public</td>\n",
       "      <td>2</td>\n",
       "      <td>...</td>\n",
       "      <td>93.0</td>\n",
       "      <td>233.0</td>\n",
       "      <td>82.0</td>\n",
       "      <td>58.0</td>\n",
       "      <td>27</td>\n",
       "      <td>7</td>\n",
       "      <td>3600000.0</td>\n",
       "      <td>1300000</td>\n",
       "      <td>2.0</td>\n",
       "      <td>49.13501</td>\n",
       "    </tr>\n",
       "    <tr>\n",
       "      <td>1</td>\n",
       "      <td>2</td>\n",
       "      <td>Bhubaneshwar</td>\n",
       "      <td>Female</td>\n",
       "      <td>Mrs</td>\n",
       "      <td>riya masi</td>\n",
       "      <td>YES</td>\n",
       "      <td>2.0</td>\n",
       "      <td>Farmer</td>\n",
       "      <td>Walk</td>\n",
       "      <td>2</td>\n",
       "      <td>...</td>\n",
       "      <td>56.0</td>\n",
       "      <td>328.0</td>\n",
       "      <td>89.0</td>\n",
       "      <td>68.0</td>\n",
       "      <td>5</td>\n",
       "      <td>6</td>\n",
       "      <td>1600000.0</td>\n",
       "      <td>400000</td>\n",
       "      <td>1.0</td>\n",
       "      <td>51.14788</td>\n",
       "    </tr>\n",
       "    <tr>\n",
       "      <td>2</td>\n",
       "      <td>3</td>\n",
       "      <td>Bhubaneshwar</td>\n",
       "      <td>Female</td>\n",
       "      <td>Mrs</td>\n",
       "      <td>sunita</td>\n",
       "      <td>NO</td>\n",
       "      <td>1.0</td>\n",
       "      <td>Cleaner</td>\n",
       "      <td>Public</td>\n",
       "      <td>2</td>\n",
       "      <td>...</td>\n",
       "      <td>137.0</td>\n",
       "      <td>213.0</td>\n",
       "      <td>77.0</td>\n",
       "      <td>43.0</td>\n",
       "      <td>40</td>\n",
       "      <td>6</td>\n",
       "      <td>3400000.0</td>\n",
       "      <td>900000</td>\n",
       "      <td>1.0</td>\n",
       "      <td>73.22400</td>\n",
       "    </tr>\n",
       "  </tbody>\n",
       "</table>\n",
       "<p>3 rows × 28 columns</p>\n",
       "</div>"
      ],
      "text/plain": [
       "   people_ID        Region  Gender Designation       Name Married  Children  \\\n",
       "0          1  Bhubaneshwar  Female         Mrs      mansi     YES       1.0   \n",
       "1          2  Bhubaneshwar  Female         Mrs  riya masi     YES       2.0   \n",
       "2          3  Bhubaneshwar  Female         Mrs     sunita      NO       1.0   \n",
       "\n",
       "  Occupation Mode_transport  cases/1M  ...    HBB d-dimer  Heart rate  \\\n",
       "0     Farmer         Public         2  ...   93.0   233.0        82.0   \n",
       "1     Farmer           Walk         2  ...   56.0   328.0        89.0   \n",
       "2    Cleaner         Public         2  ...  137.0   213.0        77.0   \n",
       "\n",
       "   HDL cholesterol Charlson Index Blood Glucose  Insurance   salary  FT/month  \\\n",
       "0             58.0             27             7  3600000.0  1300000       2.0   \n",
       "1             68.0              5             6  1600000.0   400000       1.0   \n",
       "2             43.0             40             6  3400000.0   900000       1.0   \n",
       "\n",
       "   Infect_Prob  \n",
       "0     49.13501  \n",
       "1     51.14788  \n",
       "2     73.22400  \n",
       "\n",
       "[3 rows x 28 columns]"
      ]
     },
     "execution_count": 102,
     "metadata": {},
     "output_type": "execute_result"
    }
   ],
   "source": [
    "data.head(3)"
   ]
  },
  {
   "cell_type": "code",
   "execution_count": 103,
   "metadata": {},
   "outputs": [
    {
     "data": {
      "text/plain": [
       "(10714, 28)"
      ]
     },
     "execution_count": 103,
     "metadata": {},
     "output_type": "execute_result"
    }
   ],
   "source": [
    "np.shape(data)"
   ]
  },
  {
   "cell_type": "code",
   "execution_count": 104,
   "metadata": {},
   "outputs": [
    {
     "data": {
      "text/html": [
       "<div>\n",
       "<style scoped>\n",
       "    .dataframe tbody tr th:only-of-type {\n",
       "        vertical-align: middle;\n",
       "    }\n",
       "\n",
       "    .dataframe tbody tr th {\n",
       "        vertical-align: top;\n",
       "    }\n",
       "\n",
       "    .dataframe thead th {\n",
       "        text-align: right;\n",
       "    }\n",
       "</style>\n",
       "<table border=\"1\" class=\"dataframe\">\n",
       "  <thead>\n",
       "    <tr style=\"text-align: right;\">\n",
       "      <th></th>\n",
       "      <th>people_ID</th>\n",
       "      <th>Children</th>\n",
       "      <th>cases/1M</th>\n",
       "      <th>Deaths/1M</th>\n",
       "      <th>Age</th>\n",
       "      <th>Coma score</th>\n",
       "      <th>Diuresis</th>\n",
       "      <th>Platelets</th>\n",
       "      <th>HBB</th>\n",
       "      <th>d-dimer</th>\n",
       "      <th>Heart rate</th>\n",
       "      <th>HDL cholesterol</th>\n",
       "      <th>Charlson Index</th>\n",
       "      <th>Blood Glucose</th>\n",
       "      <th>Insurance</th>\n",
       "      <th>salary</th>\n",
       "      <th>FT/month</th>\n",
       "      <th>Infect_Prob</th>\n",
       "    </tr>\n",
       "  </thead>\n",
       "  <tbody>\n",
       "    <tr>\n",
       "      <td>count</td>\n",
       "      <td>10714.000000</td>\n",
       "      <td>10403.000000</td>\n",
       "      <td>10714.000000</td>\n",
       "      <td>10714.000000</td>\n",
       "      <td>10714.000000</td>\n",
       "      <td>10714.000000</td>\n",
       "      <td>9998.000000</td>\n",
       "      <td>9790.000000</td>\n",
       "      <td>10698.000000</td>\n",
       "      <td>9600.000000</td>\n",
       "      <td>9600.000000</td>\n",
       "      <td>10679.000000</td>\n",
       "      <td>10714.000000</td>\n",
       "      <td>10714.000000</td>\n",
       "      <td>9.624000e+03</td>\n",
       "      <td>1.071400e+04</td>\n",
       "      <td>9991.000000</td>\n",
       "      <td>10714.000000</td>\n",
       "    </tr>\n",
       "    <tr>\n",
       "      <td>mean</td>\n",
       "      <td>10084.893784</td>\n",
       "      <td>1.062770</td>\n",
       "      <td>3.285888</td>\n",
       "      <td>0.523241</td>\n",
       "      <td>42.083722</td>\n",
       "      <td>9.013067</td>\n",
       "      <td>278.806261</td>\n",
       "      <td>87.795812</td>\n",
       "      <td>116.170967</td>\n",
       "      <td>275.292292</td>\n",
       "      <td>74.847396</td>\n",
       "      <td>52.632737</td>\n",
       "      <td>20.028094</td>\n",
       "      <td>5.015027</td>\n",
       "      <td>2.644919e+06</td>\n",
       "      <td>1.304713e+06</td>\n",
       "      <td>1.004604</td>\n",
       "      <td>52.280680</td>\n",
       "    </tr>\n",
       "    <tr>\n",
       "      <td>std</td>\n",
       "      <td>7108.663645</td>\n",
       "      <td>0.818222</td>\n",
       "      <td>2.721274</td>\n",
       "      <td>0.854303</td>\n",
       "      <td>15.323397</td>\n",
       "      <td>3.714970</td>\n",
       "      <td>97.985526</td>\n",
       "      <td>41.851103</td>\n",
       "      <td>55.178811</td>\n",
       "      <td>43.669692</td>\n",
       "      <td>14.869104</td>\n",
       "      <td>10.434293</td>\n",
       "      <td>11.828445</td>\n",
       "      <td>1.399770</td>\n",
       "      <td>1.383346e+06</td>\n",
       "      <td>6.075947e+05</td>\n",
       "      <td>0.815257</td>\n",
       "      <td>10.674667</td>\n",
       "    </tr>\n",
       "    <tr>\n",
       "      <td>min</td>\n",
       "      <td>1.000000</td>\n",
       "      <td>0.000000</td>\n",
       "      <td>1.000000</td>\n",
       "      <td>0.000000</td>\n",
       "      <td>16.000000</td>\n",
       "      <td>3.000000</td>\n",
       "      <td>110.000000</td>\n",
       "      <td>15.000000</td>\n",
       "      <td>20.000000</td>\n",
       "      <td>200.000000</td>\n",
       "      <td>50.000000</td>\n",
       "      <td>35.000000</td>\n",
       "      <td>0.000000</td>\n",
       "      <td>3.000000</td>\n",
       "      <td>3.000000e+05</td>\n",
       "      <td>3.000000e+05</td>\n",
       "      <td>0.000000</td>\n",
       "      <td>29.289600</td>\n",
       "    </tr>\n",
       "    <tr>\n",
       "      <td>25%</td>\n",
       "      <td>2679.250000</td>\n",
       "      <td>0.000000</td>\n",
       "      <td>2.000000</td>\n",
       "      <td>0.000000</td>\n",
       "      <td>29.000000</td>\n",
       "      <td>6.000000</td>\n",
       "      <td>194.000000</td>\n",
       "      <td>52.000000</td>\n",
       "      <td>68.000000</td>\n",
       "      <td>237.000000</td>\n",
       "      <td>62.000000</td>\n",
       "      <td>44.000000</td>\n",
       "      <td>10.000000</td>\n",
       "      <td>4.000000</td>\n",
       "      <td>1.400000e+06</td>\n",
       "      <td>8.000000e+05</td>\n",
       "      <td>0.000000</td>\n",
       "      <td>47.277426</td>\n",
       "    </tr>\n",
       "    <tr>\n",
       "      <td>50%</td>\n",
       "      <td>10003.500000</td>\n",
       "      <td>1.000000</td>\n",
       "      <td>2.000000</td>\n",
       "      <td>0.000000</td>\n",
       "      <td>42.000000</td>\n",
       "      <td>9.000000</td>\n",
       "      <td>276.000000</td>\n",
       "      <td>88.000000</td>\n",
       "      <td>117.000000</td>\n",
       "      <td>276.000000</td>\n",
       "      <td>75.000000</td>\n",
       "      <td>53.000000</td>\n",
       "      <td>20.000000</td>\n",
       "      <td>5.000000</td>\n",
       "      <td>2.600000e+06</td>\n",
       "      <td>1.300000e+06</td>\n",
       "      <td>1.000000</td>\n",
       "      <td>49.008389</td>\n",
       "    </tr>\n",
       "    <tr>\n",
       "      <td>75%</td>\n",
       "      <td>15141.750000</td>\n",
       "      <td>2.000000</td>\n",
       "      <td>4.000000</td>\n",
       "      <td>1.000000</td>\n",
       "      <td>55.000000</td>\n",
       "      <td>12.000000</td>\n",
       "      <td>364.000000</td>\n",
       "      <td>124.000000</td>\n",
       "      <td>165.000000</td>\n",
       "      <td>313.000000</td>\n",
       "      <td>88.000000</td>\n",
       "      <td>62.000000</td>\n",
       "      <td>30.000000</td>\n",
       "      <td>6.000000</td>\n",
       "      <td>3.800000e+06</td>\n",
       "      <td>1.800000e+06</td>\n",
       "      <td>2.000000</td>\n",
       "      <td>52.762313</td>\n",
       "    </tr>\n",
       "    <tr>\n",
       "      <td>max</td>\n",
       "      <td>22695.000000</td>\n",
       "      <td>2.000000</td>\n",
       "      <td>8.000000</td>\n",
       "      <td>2.000000</td>\n",
       "      <td>68.000000</td>\n",
       "      <td>15.000000</td>\n",
       "      <td>450.000000</td>\n",
       "      <td>160.000000</td>\n",
       "      <td>210.000000</td>\n",
       "      <td>350.000000</td>\n",
       "      <td>100.000000</td>\n",
       "      <td>70.000000</td>\n",
       "      <td>40.000000</td>\n",
       "      <td>7.000000</td>\n",
       "      <td>5.000000e+06</td>\n",
       "      <td>2.300000e+06</td>\n",
       "      <td>2.000000</td>\n",
       "      <td>97.632000</td>\n",
       "    </tr>\n",
       "  </tbody>\n",
       "</table>\n",
       "</div>"
      ],
      "text/plain": [
       "          people_ID      Children      cases/1M     Deaths/1M           Age  \\\n",
       "count  10714.000000  10403.000000  10714.000000  10714.000000  10714.000000   \n",
       "mean   10084.893784      1.062770      3.285888      0.523241     42.083722   \n",
       "std     7108.663645      0.818222      2.721274      0.854303     15.323397   \n",
       "min        1.000000      0.000000      1.000000      0.000000     16.000000   \n",
       "25%     2679.250000      0.000000      2.000000      0.000000     29.000000   \n",
       "50%    10003.500000      1.000000      2.000000      0.000000     42.000000   \n",
       "75%    15141.750000      2.000000      4.000000      1.000000     55.000000   \n",
       "max    22695.000000      2.000000      8.000000      2.000000     68.000000   \n",
       "\n",
       "         Coma score     Diuresis    Platelets           HBB      d-dimer  \\\n",
       "count  10714.000000  9998.000000  9790.000000  10698.000000  9600.000000   \n",
       "mean       9.013067   278.806261    87.795812    116.170967   275.292292   \n",
       "std        3.714970    97.985526    41.851103     55.178811    43.669692   \n",
       "min        3.000000   110.000000    15.000000     20.000000   200.000000   \n",
       "25%        6.000000   194.000000    52.000000     68.000000   237.000000   \n",
       "50%        9.000000   276.000000    88.000000    117.000000   276.000000   \n",
       "75%       12.000000   364.000000   124.000000    165.000000   313.000000   \n",
       "max       15.000000   450.000000   160.000000    210.000000   350.000000   \n",
       "\n",
       "        Heart rate  HDL cholesterol  Charlson Index  Blood Glucose  \\\n",
       "count  9600.000000     10679.000000    10714.000000   10714.000000   \n",
       "mean     74.847396        52.632737       20.028094       5.015027   \n",
       "std      14.869104        10.434293       11.828445       1.399770   \n",
       "min      50.000000        35.000000        0.000000       3.000000   \n",
       "25%      62.000000        44.000000       10.000000       4.000000   \n",
       "50%      75.000000        53.000000       20.000000       5.000000   \n",
       "75%      88.000000        62.000000       30.000000       6.000000   \n",
       "max     100.000000        70.000000       40.000000       7.000000   \n",
       "\n",
       "          Insurance        salary     FT/month   Infect_Prob  \n",
       "count  9.624000e+03  1.071400e+04  9991.000000  10714.000000  \n",
       "mean   2.644919e+06  1.304713e+06     1.004604     52.280680  \n",
       "std    1.383346e+06  6.075947e+05     0.815257     10.674667  \n",
       "min    3.000000e+05  3.000000e+05     0.000000     29.289600  \n",
       "25%    1.400000e+06  8.000000e+05     0.000000     47.277426  \n",
       "50%    2.600000e+06  1.300000e+06     1.000000     49.008389  \n",
       "75%    3.800000e+06  1.800000e+06     2.000000     52.762313  \n",
       "max    5.000000e+06  2.300000e+06     2.000000     97.632000  "
      ]
     },
     "execution_count": 104,
     "metadata": {},
     "output_type": "execute_result"
    }
   ],
   "source": [
    "data.describe()"
   ]
  },
  {
   "cell_type": "code",
   "execution_count": 105,
   "metadata": {},
   "outputs": [
    {
     "data": {
      "text/html": [
       "<div>\n",
       "<style scoped>\n",
       "    .dataframe tbody tr th:only-of-type {\n",
       "        vertical-align: middle;\n",
       "    }\n",
       "\n",
       "    .dataframe tbody tr th {\n",
       "        vertical-align: top;\n",
       "    }\n",
       "\n",
       "    .dataframe thead th {\n",
       "        text-align: right;\n",
       "    }\n",
       "</style>\n",
       "<table border=\"1\" class=\"dataframe\">\n",
       "  <thead>\n",
       "    <tr style=\"text-align: right;\">\n",
       "      <th></th>\n",
       "      <th>Region</th>\n",
       "      <th>Gender</th>\n",
       "      <th>Designation</th>\n",
       "      <th>Name</th>\n",
       "      <th>Married</th>\n",
       "      <th>Occupation</th>\n",
       "      <th>Mode_transport</th>\n",
       "      <th>comorbidity</th>\n",
       "      <th>Pulmonary score</th>\n",
       "      <th>cardiological pressure</th>\n",
       "    </tr>\n",
       "  </thead>\n",
       "  <tbody>\n",
       "    <tr>\n",
       "      <td>count</td>\n",
       "      <td>10714</td>\n",
       "      <td>10714</td>\n",
       "      <td>10714</td>\n",
       "      <td>10694</td>\n",
       "      <td>10714</td>\n",
       "      <td>9967</td>\n",
       "      <td>10711</td>\n",
       "      <td>10488</td>\n",
       "      <td>10714</td>\n",
       "      <td>10617</td>\n",
       "    </tr>\n",
       "    <tr>\n",
       "      <td>unique</td>\n",
       "      <td>5</td>\n",
       "      <td>2</td>\n",
       "      <td>2</td>\n",
       "      <td>6304</td>\n",
       "      <td>2</td>\n",
       "      <td>9</td>\n",
       "      <td>3</td>\n",
       "      <td>4</td>\n",
       "      <td>4</td>\n",
       "      <td>4</td>\n",
       "    </tr>\n",
       "    <tr>\n",
       "      <td>top</td>\n",
       "      <td>Chennai</td>\n",
       "      <td>Female</td>\n",
       "      <td>Mrs</td>\n",
       "      <td>pooja</td>\n",
       "      <td>YES</td>\n",
       "      <td>Legal</td>\n",
       "      <td>Public</td>\n",
       "      <td>Hypertension</td>\n",
       "      <td>&lt;400</td>\n",
       "      <td>Normal</td>\n",
       "    </tr>\n",
       "    <tr>\n",
       "      <td>freq</td>\n",
       "      <td>2581</td>\n",
       "      <td>5423</td>\n",
       "      <td>5423</td>\n",
       "      <td>122</td>\n",
       "      <td>8481</td>\n",
       "      <td>1174</td>\n",
       "      <td>3588</td>\n",
       "      <td>2642</td>\n",
       "      <td>2702</td>\n",
       "      <td>2681</td>\n",
       "    </tr>\n",
       "  </tbody>\n",
       "</table>\n",
       "</div>"
      ],
      "text/plain": [
       "         Region  Gender Designation   Name Married Occupation Mode_transport  \\\n",
       "count     10714   10714       10714  10694   10714       9967          10711   \n",
       "unique        5       2           2   6304       2          9              3   \n",
       "top     Chennai  Female         Mrs  pooja     YES      Legal         Public   \n",
       "freq       2581    5423        5423    122    8481       1174           3588   \n",
       "\n",
       "         comorbidity Pulmonary score cardiological pressure  \n",
       "count          10488           10714                  10617  \n",
       "unique             4               4                      4  \n",
       "top     Hypertension            <400                 Normal  \n",
       "freq            2642            2702                   2681  "
      ]
     },
     "execution_count": 105,
     "metadata": {},
     "output_type": "execute_result"
    }
   ],
   "source": [
    "data_cat= data.select_dtypes(include='object')\n",
    "data_cat.describe()"
   ]
  },
  {
   "cell_type": "code",
   "execution_count": 106,
   "metadata": {},
   "outputs": [],
   "source": [
    "data_test= pd.read_excel('D:\\Downloads\\Test_dataset.xlsx')"
   ]
  },
  {
   "cell_type": "code",
   "execution_count": 109,
   "metadata": {},
   "outputs": [],
   "source": [
    "data_test_cat= data_test.select_dtypes(include='object')\n",
    "data_test_dis= data_test.select_dtypes(exclude='object')"
   ]
  },
  {
   "cell_type": "code",
   "execution_count": 110,
   "metadata": {},
   "outputs": [
    {
     "name": "stderr",
     "output_type": "stream",
     "text": [
      "D:\\Python\\lib\\site-packages\\pandas\\core\\frame.py:4102: SettingWithCopyWarning: \n",
      "A value is trying to be set on a copy of a slice from a DataFrame\n",
      "\n",
      "See the caveats in the documentation: http://pandas.pydata.org/pandas-docs/stable/user_guide/indexing.html#returning-a-view-versus-a-copy\n",
      "  errors=errors,\n"
     ]
    }
   ],
   "source": [
    "comb=[data,data_test]\n",
    "comb_dis= [data_dis,data_test_dis]\n",
    "comb_cat= [data_cat,data_test_cat]\n",
    "for datai in comb_cat:\n",
    "    datai.drop(['Designation','Name'],axis=1,inplace=True)\n",
    "for datai in comb_dis:\n",
    "    datai.drop(['people_ID','cases/1M'],axis=1,inplace=True)"
   ]
  },
  {
   "cell_type": "code",
   "execution_count": 113,
   "metadata": {},
   "outputs": [
    {
     "data": {
      "text/html": [
       "<div>\n",
       "<style scoped>\n",
       "    .dataframe tbody tr th:only-of-type {\n",
       "        vertical-align: middle;\n",
       "    }\n",
       "\n",
       "    .dataframe tbody tr th {\n",
       "        vertical-align: top;\n",
       "    }\n",
       "\n",
       "    .dataframe thead th {\n",
       "        text-align: right;\n",
       "    }\n",
       "</style>\n",
       "<table border=\"1\" class=\"dataframe\">\n",
       "  <thead>\n",
       "    <tr style=\"text-align: right;\">\n",
       "      <th></th>\n",
       "      <th>Region</th>\n",
       "      <th>Gender</th>\n",
       "      <th>Married</th>\n",
       "      <th>Occupation</th>\n",
       "      <th>Mode_transport</th>\n",
       "      <th>comorbidity</th>\n",
       "      <th>Pulmonary score</th>\n",
       "      <th>cardiological pressure</th>\n",
       "    </tr>\n",
       "  </thead>\n",
       "  <tbody>\n",
       "    <tr>\n",
       "      <td>0</td>\n",
       "      <td>Delhi</td>\n",
       "      <td>Female</td>\n",
       "      <td>YES</td>\n",
       "      <td>Driver</td>\n",
       "      <td>Public</td>\n",
       "      <td>Diabetes</td>\n",
       "      <td>&lt;200</td>\n",
       "      <td>Stage-01</td>\n",
       "    </tr>\n",
       "    <tr>\n",
       "      <td>1</td>\n",
       "      <td>Delhi</td>\n",
       "      <td>Male</td>\n",
       "      <td>YES</td>\n",
       "      <td>Legal</td>\n",
       "      <td>Walk</td>\n",
       "      <td>Diabetes</td>\n",
       "      <td>&lt;200</td>\n",
       "      <td>Stage-01</td>\n",
       "    </tr>\n",
       "    <tr>\n",
       "      <td>2</td>\n",
       "      <td>Delhi</td>\n",
       "      <td>Female</td>\n",
       "      <td>YES</td>\n",
       "      <td>Sales</td>\n",
       "      <td>Car</td>\n",
       "      <td>Diabetes</td>\n",
       "      <td>&lt;100</td>\n",
       "      <td>Stage-02</td>\n",
       "    </tr>\n",
       "    <tr>\n",
       "      <td>3</td>\n",
       "      <td>Delhi</td>\n",
       "      <td>Female</td>\n",
       "      <td>YES</td>\n",
       "      <td>Sales</td>\n",
       "      <td>Car</td>\n",
       "      <td>None</td>\n",
       "      <td>&lt;300</td>\n",
       "      <td>Elevated</td>\n",
       "    </tr>\n",
       "    <tr>\n",
       "      <td>4</td>\n",
       "      <td>Delhi</td>\n",
       "      <td>Female</td>\n",
       "      <td>YES</td>\n",
       "      <td>Business</td>\n",
       "      <td>Car</td>\n",
       "      <td>Diabetes</td>\n",
       "      <td>&lt;200</td>\n",
       "      <td>Stage-01</td>\n",
       "    </tr>\n",
       "    <tr>\n",
       "      <td>...</td>\n",
       "      <td>...</td>\n",
       "      <td>...</td>\n",
       "      <td>...</td>\n",
       "      <td>...</td>\n",
       "      <td>...</td>\n",
       "      <td>...</td>\n",
       "      <td>...</td>\n",
       "      <td>...</td>\n",
       "    </tr>\n",
       "    <tr>\n",
       "      <td>14493</td>\n",
       "      <td>Thiruvananthapuram</td>\n",
       "      <td>Male</td>\n",
       "      <td>YES</td>\n",
       "      <td>Cleaner</td>\n",
       "      <td>Walk</td>\n",
       "      <td>Coronary Heart Disease</td>\n",
       "      <td>&lt;400</td>\n",
       "      <td>Normal</td>\n",
       "    </tr>\n",
       "    <tr>\n",
       "      <td>14494</td>\n",
       "      <td>Thiruvananthapuram</td>\n",
       "      <td>Female</td>\n",
       "      <td>YES</td>\n",
       "      <td>Clerk</td>\n",
       "      <td>Car</td>\n",
       "      <td>None</td>\n",
       "      <td>&lt;300</td>\n",
       "      <td>Elevated</td>\n",
       "    </tr>\n",
       "    <tr>\n",
       "      <td>14495</td>\n",
       "      <td>Thiruvananthapuram</td>\n",
       "      <td>Male</td>\n",
       "      <td>YES</td>\n",
       "      <td>Business</td>\n",
       "      <td>Public</td>\n",
       "      <td>None</td>\n",
       "      <td>&lt;300</td>\n",
       "      <td>Elevated</td>\n",
       "    </tr>\n",
       "    <tr>\n",
       "      <td>14496</td>\n",
       "      <td>Thiruvananthapuram</td>\n",
       "      <td>Female</td>\n",
       "      <td>YES</td>\n",
       "      <td>Driver</td>\n",
       "      <td>Car</td>\n",
       "      <td>Coronary Heart Disease</td>\n",
       "      <td>&lt;200</td>\n",
       "      <td>Stage-01</td>\n",
       "    </tr>\n",
       "    <tr>\n",
       "      <td>14497</td>\n",
       "      <td>Thiruvananthapuram</td>\n",
       "      <td>Female</td>\n",
       "      <td>YES</td>\n",
       "      <td>Driver</td>\n",
       "      <td>Public</td>\n",
       "      <td>Diabetes</td>\n",
       "      <td>&lt;200</td>\n",
       "      <td>Stage-01</td>\n",
       "    </tr>\n",
       "  </tbody>\n",
       "</table>\n",
       "<p>14498 rows × 8 columns</p>\n",
       "</div>"
      ],
      "text/plain": [
       "                   Region  Gender Married Occupation Mode_transport  \\\n",
       "0                   Delhi  Female     YES     Driver         Public   \n",
       "1                   Delhi    Male     YES      Legal           Walk   \n",
       "2                   Delhi  Female     YES      Sales            Car   \n",
       "3                   Delhi  Female     YES      Sales            Car   \n",
       "4                   Delhi  Female     YES   Business            Car   \n",
       "...                   ...     ...     ...        ...            ...   \n",
       "14493  Thiruvananthapuram    Male     YES    Cleaner           Walk   \n",
       "14494  Thiruvananthapuram  Female     YES      Clerk            Car   \n",
       "14495  Thiruvananthapuram    Male     YES   Business         Public   \n",
       "14496  Thiruvananthapuram  Female     YES     Driver            Car   \n",
       "14497  Thiruvananthapuram  Female     YES     Driver         Public   \n",
       "\n",
       "                  comorbidity Pulmonary score cardiological pressure  \n",
       "0                    Diabetes            <200               Stage-01  \n",
       "1                    Diabetes            <200               Stage-01  \n",
       "2                    Diabetes            <100               Stage-02  \n",
       "3                        None            <300               Elevated  \n",
       "4                    Diabetes            <200               Stage-01  \n",
       "...                       ...             ...                    ...  \n",
       "14493  Coronary Heart Disease            <400                 Normal  \n",
       "14494                    None            <300               Elevated  \n",
       "14495                    None            <300               Elevated  \n",
       "14496  Coronary Heart Disease            <200               Stage-01  \n",
       "14497                Diabetes            <200               Stage-01  \n",
       "\n",
       "[14498 rows x 8 columns]"
      ]
     },
     "execution_count": 113,
     "metadata": {},
     "output_type": "execute_result"
    }
   ],
   "source": [
    "data_test_cat"
   ]
  },
  {
   "cell_type": "code",
   "execution_count": 108,
   "metadata": {},
   "outputs": [],
   "source": [
    "data_dis= data.select_dtypes(exclude='object')"
   ]
  },
  {
   "cell_type": "code",
   "execution_count": 284,
   "metadata": {},
   "outputs": [
    {
     "name": "stdout",
     "output_type": "stream",
     "text": [
      "0.22679482240332\n",
      "0.174993986673568\n",
      "-0.3312578417788841\n",
      "0.03839972268284267\n",
      "0.006887234581313774\n",
      "0.06672738461887423\n",
      "0.019354211771197456\n",
      "0.021304354466427852\n",
      "-0.0036474543903497205\n",
      "0.013240424723768223\n",
      "-0.011367873172882757\n",
      "-0.00965399399475467\n",
      "0.009995867624072048\n",
      "-0.024621429412740526\n",
      "-0.0014743766594164608\n",
      "0.9999999999999999\n"
     ]
    }
   ],
   "source": [
    "for i in data_dis.columns:\n",
    "    k= data_dis[i].corr(data_dis['Infect_Prob']) \n",
    "    print (k)"
   ]
  },
  {
   "cell_type": "code",
   "execution_count": 285,
   "metadata": {},
   "outputs": [
    {
     "data": {
      "text/html": [
       "<div>\n",
       "<style scoped>\n",
       "    .dataframe tbody tr th:only-of-type {\n",
       "        vertical-align: middle;\n",
       "    }\n",
       "\n",
       "    .dataframe tbody tr th {\n",
       "        vertical-align: top;\n",
       "    }\n",
       "\n",
       "    .dataframe thead th {\n",
       "        text-align: right;\n",
       "    }\n",
       "</style>\n",
       "<table border=\"1\" class=\"dataframe\">\n",
       "  <thead>\n",
       "    <tr style=\"text-align: right;\">\n",
       "      <th></th>\n",
       "      <th>Children</th>\n",
       "      <th>Deaths/1M</th>\n",
       "      <th>Age</th>\n",
       "      <th>Coma score</th>\n",
       "      <th>Diuresis</th>\n",
       "      <th>Platelets</th>\n",
       "      <th>HBB</th>\n",
       "      <th>d-dimer</th>\n",
       "      <th>Heart rate</th>\n",
       "      <th>HDL cholesterol</th>\n",
       "      <th>Charlson Index</th>\n",
       "      <th>Blood Glucose</th>\n",
       "      <th>Insurance</th>\n",
       "      <th>salary</th>\n",
       "      <th>FT/month</th>\n",
       "      <th>Infect_Prob</th>\n",
       "    </tr>\n",
       "  </thead>\n",
       "  <tbody>\n",
       "    <tr>\n",
       "      <td>Children</td>\n",
       "      <td>1.000000</td>\n",
       "      <td>0.022231</td>\n",
       "      <td>-0.051008</td>\n",
       "      <td>0.025788</td>\n",
       "      <td>-0.012099</td>\n",
       "      <td>0.024257</td>\n",
       "      <td>0.010003</td>\n",
       "      <td>0.004237</td>\n",
       "      <td>0.004667</td>\n",
       "      <td>-0.006087</td>\n",
       "      <td>-0.019529</td>\n",
       "      <td>0.009537</td>\n",
       "      <td>-0.005932</td>\n",
       "      <td>-0.018795</td>\n",
       "      <td>0.004873</td>\n",
       "      <td>0.226795</td>\n",
       "    </tr>\n",
       "    <tr>\n",
       "      <td>Deaths/1M</td>\n",
       "      <td>0.022231</td>\n",
       "      <td>1.000000</td>\n",
       "      <td>0.003991</td>\n",
       "      <td>-0.010302</td>\n",
       "      <td>0.029605</td>\n",
       "      <td>0.009392</td>\n",
       "      <td>0.010385</td>\n",
       "      <td>0.000231</td>\n",
       "      <td>0.011776</td>\n",
       "      <td>0.007679</td>\n",
       "      <td>-0.001806</td>\n",
       "      <td>-0.005483</td>\n",
       "      <td>0.012602</td>\n",
       "      <td>0.008088</td>\n",
       "      <td>0.001679</td>\n",
       "      <td>0.174994</td>\n",
       "    </tr>\n",
       "    <tr>\n",
       "      <td>Age</td>\n",
       "      <td>-0.051008</td>\n",
       "      <td>0.003991</td>\n",
       "      <td>1.000000</td>\n",
       "      <td>-0.002618</td>\n",
       "      <td>-0.006002</td>\n",
       "      <td>0.011583</td>\n",
       "      <td>0.013847</td>\n",
       "      <td>-0.007124</td>\n",
       "      <td>0.003763</td>\n",
       "      <td>-0.003980</td>\n",
       "      <td>0.002902</td>\n",
       "      <td>0.012601</td>\n",
       "      <td>-0.014370</td>\n",
       "      <td>-0.002901</td>\n",
       "      <td>0.015911</td>\n",
       "      <td>-0.331258</td>\n",
       "    </tr>\n",
       "    <tr>\n",
       "      <td>Coma score</td>\n",
       "      <td>0.025788</td>\n",
       "      <td>-0.010302</td>\n",
       "      <td>-0.002618</td>\n",
       "      <td>1.000000</td>\n",
       "      <td>0.003086</td>\n",
       "      <td>-0.014236</td>\n",
       "      <td>0.006820</td>\n",
       "      <td>0.000628</td>\n",
       "      <td>-0.007071</td>\n",
       "      <td>0.007181</td>\n",
       "      <td>-0.005257</td>\n",
       "      <td>0.016351</td>\n",
       "      <td>-0.009284</td>\n",
       "      <td>0.004323</td>\n",
       "      <td>0.001476</td>\n",
       "      <td>0.038400</td>\n",
       "    </tr>\n",
       "    <tr>\n",
       "      <td>Diuresis</td>\n",
       "      <td>-0.012099</td>\n",
       "      <td>0.029605</td>\n",
       "      <td>-0.006002</td>\n",
       "      <td>0.003086</td>\n",
       "      <td>1.000000</td>\n",
       "      <td>0.009593</td>\n",
       "      <td>0.003931</td>\n",
       "      <td>-0.009508</td>\n",
       "      <td>-0.007295</td>\n",
       "      <td>0.011152</td>\n",
       "      <td>0.014366</td>\n",
       "      <td>-0.010999</td>\n",
       "      <td>0.023644</td>\n",
       "      <td>-0.006942</td>\n",
       "      <td>-0.016646</td>\n",
       "      <td>0.006887</td>\n",
       "    </tr>\n",
       "    <tr>\n",
       "      <td>Platelets</td>\n",
       "      <td>0.024257</td>\n",
       "      <td>0.009392</td>\n",
       "      <td>0.011583</td>\n",
       "      <td>-0.014236</td>\n",
       "      <td>0.009593</td>\n",
       "      <td>1.000000</td>\n",
       "      <td>-0.008051</td>\n",
       "      <td>0.014238</td>\n",
       "      <td>-0.007283</td>\n",
       "      <td>-0.020922</td>\n",
       "      <td>-0.000346</td>\n",
       "      <td>0.010175</td>\n",
       "      <td>0.001908</td>\n",
       "      <td>-0.010824</td>\n",
       "      <td>0.013604</td>\n",
       "      <td>0.066727</td>\n",
       "    </tr>\n",
       "    <tr>\n",
       "      <td>HBB</td>\n",
       "      <td>0.010003</td>\n",
       "      <td>0.010385</td>\n",
       "      <td>0.013847</td>\n",
       "      <td>0.006820</td>\n",
       "      <td>0.003931</td>\n",
       "      <td>-0.008051</td>\n",
       "      <td>1.000000</td>\n",
       "      <td>-0.006552</td>\n",
       "      <td>-0.000053</td>\n",
       "      <td>0.004307</td>\n",
       "      <td>0.005611</td>\n",
       "      <td>-0.005468</td>\n",
       "      <td>-0.001509</td>\n",
       "      <td>-0.010859</td>\n",
       "      <td>-0.011888</td>\n",
       "      <td>0.019354</td>\n",
       "    </tr>\n",
       "    <tr>\n",
       "      <td>d-dimer</td>\n",
       "      <td>0.004237</td>\n",
       "      <td>0.000231</td>\n",
       "      <td>-0.007124</td>\n",
       "      <td>0.000628</td>\n",
       "      <td>-0.009508</td>\n",
       "      <td>0.014238</td>\n",
       "      <td>-0.006552</td>\n",
       "      <td>1.000000</td>\n",
       "      <td>-0.007661</td>\n",
       "      <td>-0.002185</td>\n",
       "      <td>0.001157</td>\n",
       "      <td>-0.002948</td>\n",
       "      <td>0.016980</td>\n",
       "      <td>0.001513</td>\n",
       "      <td>-0.013268</td>\n",
       "      <td>0.021304</td>\n",
       "    </tr>\n",
       "    <tr>\n",
       "      <td>Heart rate</td>\n",
       "      <td>0.004667</td>\n",
       "      <td>0.011776</td>\n",
       "      <td>0.003763</td>\n",
       "      <td>-0.007071</td>\n",
       "      <td>-0.007295</td>\n",
       "      <td>-0.007283</td>\n",
       "      <td>-0.000053</td>\n",
       "      <td>-0.007661</td>\n",
       "      <td>1.000000</td>\n",
       "      <td>-0.011730</td>\n",
       "      <td>-0.006261</td>\n",
       "      <td>-0.010150</td>\n",
       "      <td>0.009506</td>\n",
       "      <td>-0.000490</td>\n",
       "      <td>0.015347</td>\n",
       "      <td>-0.003647</td>\n",
       "    </tr>\n",
       "    <tr>\n",
       "      <td>HDL cholesterol</td>\n",
       "      <td>-0.006087</td>\n",
       "      <td>0.007679</td>\n",
       "      <td>-0.003980</td>\n",
       "      <td>0.007181</td>\n",
       "      <td>0.011152</td>\n",
       "      <td>-0.020922</td>\n",
       "      <td>0.004307</td>\n",
       "      <td>-0.002185</td>\n",
       "      <td>-0.011730</td>\n",
       "      <td>1.000000</td>\n",
       "      <td>-0.004816</td>\n",
       "      <td>-0.007721</td>\n",
       "      <td>-0.006328</td>\n",
       "      <td>0.013661</td>\n",
       "      <td>0.014647</td>\n",
       "      <td>0.013240</td>\n",
       "    </tr>\n",
       "    <tr>\n",
       "      <td>Charlson Index</td>\n",
       "      <td>-0.019529</td>\n",
       "      <td>-0.001806</td>\n",
       "      <td>0.002902</td>\n",
       "      <td>-0.005257</td>\n",
       "      <td>0.014366</td>\n",
       "      <td>-0.000346</td>\n",
       "      <td>0.005611</td>\n",
       "      <td>0.001157</td>\n",
       "      <td>-0.006261</td>\n",
       "      <td>-0.004816</td>\n",
       "      <td>1.000000</td>\n",
       "      <td>-0.002044</td>\n",
       "      <td>0.004246</td>\n",
       "      <td>0.009082</td>\n",
       "      <td>-0.006845</td>\n",
       "      <td>-0.011368</td>\n",
       "    </tr>\n",
       "    <tr>\n",
       "      <td>Blood Glucose</td>\n",
       "      <td>0.009537</td>\n",
       "      <td>-0.005483</td>\n",
       "      <td>0.012601</td>\n",
       "      <td>0.016351</td>\n",
       "      <td>-0.010999</td>\n",
       "      <td>0.010175</td>\n",
       "      <td>-0.005468</td>\n",
       "      <td>-0.002948</td>\n",
       "      <td>-0.010150</td>\n",
       "      <td>-0.007721</td>\n",
       "      <td>-0.002044</td>\n",
       "      <td>1.000000</td>\n",
       "      <td>0.016026</td>\n",
       "      <td>0.008049</td>\n",
       "      <td>-0.004286</td>\n",
       "      <td>-0.009654</td>\n",
       "    </tr>\n",
       "    <tr>\n",
       "      <td>Insurance</td>\n",
       "      <td>-0.005932</td>\n",
       "      <td>0.012602</td>\n",
       "      <td>-0.014370</td>\n",
       "      <td>-0.009284</td>\n",
       "      <td>0.023644</td>\n",
       "      <td>0.001908</td>\n",
       "      <td>-0.001509</td>\n",
       "      <td>0.016980</td>\n",
       "      <td>0.009506</td>\n",
       "      <td>-0.006328</td>\n",
       "      <td>0.004246</td>\n",
       "      <td>0.016026</td>\n",
       "      <td>1.000000</td>\n",
       "      <td>-0.010559</td>\n",
       "      <td>-0.005670</td>\n",
       "      <td>0.009996</td>\n",
       "    </tr>\n",
       "    <tr>\n",
       "      <td>salary</td>\n",
       "      <td>-0.018795</td>\n",
       "      <td>0.008088</td>\n",
       "      <td>-0.002901</td>\n",
       "      <td>0.004323</td>\n",
       "      <td>-0.006942</td>\n",
       "      <td>-0.010824</td>\n",
       "      <td>-0.010859</td>\n",
       "      <td>0.001513</td>\n",
       "      <td>-0.000490</td>\n",
       "      <td>0.013661</td>\n",
       "      <td>0.009082</td>\n",
       "      <td>0.008049</td>\n",
       "      <td>-0.010559</td>\n",
       "      <td>1.000000</td>\n",
       "      <td>0.022641</td>\n",
       "      <td>-0.024621</td>\n",
       "    </tr>\n",
       "    <tr>\n",
       "      <td>FT/month</td>\n",
       "      <td>0.004873</td>\n",
       "      <td>0.001679</td>\n",
       "      <td>0.015911</td>\n",
       "      <td>0.001476</td>\n",
       "      <td>-0.016646</td>\n",
       "      <td>0.013604</td>\n",
       "      <td>-0.011888</td>\n",
       "      <td>-0.013268</td>\n",
       "      <td>0.015347</td>\n",
       "      <td>0.014647</td>\n",
       "      <td>-0.006845</td>\n",
       "      <td>-0.004286</td>\n",
       "      <td>-0.005670</td>\n",
       "      <td>0.022641</td>\n",
       "      <td>1.000000</td>\n",
       "      <td>-0.001474</td>\n",
       "    </tr>\n",
       "    <tr>\n",
       "      <td>Infect_Prob</td>\n",
       "      <td>0.226795</td>\n",
       "      <td>0.174994</td>\n",
       "      <td>-0.331258</td>\n",
       "      <td>0.038400</td>\n",
       "      <td>0.006887</td>\n",
       "      <td>0.066727</td>\n",
       "      <td>0.019354</td>\n",
       "      <td>0.021304</td>\n",
       "      <td>-0.003647</td>\n",
       "      <td>0.013240</td>\n",
       "      <td>-0.011368</td>\n",
       "      <td>-0.009654</td>\n",
       "      <td>0.009996</td>\n",
       "      <td>-0.024621</td>\n",
       "      <td>-0.001474</td>\n",
       "      <td>1.000000</td>\n",
       "    </tr>\n",
       "  </tbody>\n",
       "</table>\n",
       "</div>"
      ],
      "text/plain": [
       "                 Children  Deaths/1M       Age  Coma score  Diuresis  \\\n",
       "Children         1.000000   0.022231 -0.051008    0.025788 -0.012099   \n",
       "Deaths/1M        0.022231   1.000000  0.003991   -0.010302  0.029605   \n",
       "Age             -0.051008   0.003991  1.000000   -0.002618 -0.006002   \n",
       "Coma score       0.025788  -0.010302 -0.002618    1.000000  0.003086   \n",
       "Diuresis        -0.012099   0.029605 -0.006002    0.003086  1.000000   \n",
       "Platelets        0.024257   0.009392  0.011583   -0.014236  0.009593   \n",
       "HBB              0.010003   0.010385  0.013847    0.006820  0.003931   \n",
       "d-dimer          0.004237   0.000231 -0.007124    0.000628 -0.009508   \n",
       "Heart rate       0.004667   0.011776  0.003763   -0.007071 -0.007295   \n",
       "HDL cholesterol -0.006087   0.007679 -0.003980    0.007181  0.011152   \n",
       "Charlson Index  -0.019529  -0.001806  0.002902   -0.005257  0.014366   \n",
       "Blood Glucose    0.009537  -0.005483  0.012601    0.016351 -0.010999   \n",
       "Insurance       -0.005932   0.012602 -0.014370   -0.009284  0.023644   \n",
       "salary          -0.018795   0.008088 -0.002901    0.004323 -0.006942   \n",
       "FT/month         0.004873   0.001679  0.015911    0.001476 -0.016646   \n",
       "Infect_Prob      0.226795   0.174994 -0.331258    0.038400  0.006887   \n",
       "\n",
       "                 Platelets       HBB   d-dimer  Heart rate  HDL cholesterol  \\\n",
       "Children          0.024257  0.010003  0.004237    0.004667        -0.006087   \n",
       "Deaths/1M         0.009392  0.010385  0.000231    0.011776         0.007679   \n",
       "Age               0.011583  0.013847 -0.007124    0.003763        -0.003980   \n",
       "Coma score       -0.014236  0.006820  0.000628   -0.007071         0.007181   \n",
       "Diuresis          0.009593  0.003931 -0.009508   -0.007295         0.011152   \n",
       "Platelets         1.000000 -0.008051  0.014238   -0.007283        -0.020922   \n",
       "HBB              -0.008051  1.000000 -0.006552   -0.000053         0.004307   \n",
       "d-dimer           0.014238 -0.006552  1.000000   -0.007661        -0.002185   \n",
       "Heart rate       -0.007283 -0.000053 -0.007661    1.000000        -0.011730   \n",
       "HDL cholesterol  -0.020922  0.004307 -0.002185   -0.011730         1.000000   \n",
       "Charlson Index   -0.000346  0.005611  0.001157   -0.006261        -0.004816   \n",
       "Blood Glucose     0.010175 -0.005468 -0.002948   -0.010150        -0.007721   \n",
       "Insurance         0.001908 -0.001509  0.016980    0.009506        -0.006328   \n",
       "salary           -0.010824 -0.010859  0.001513   -0.000490         0.013661   \n",
       "FT/month          0.013604 -0.011888 -0.013268    0.015347         0.014647   \n",
       "Infect_Prob       0.066727  0.019354  0.021304   -0.003647         0.013240   \n",
       "\n",
       "                 Charlson Index  Blood Glucose  Insurance    salary  FT/month  \\\n",
       "Children              -0.019529       0.009537  -0.005932 -0.018795  0.004873   \n",
       "Deaths/1M             -0.001806      -0.005483   0.012602  0.008088  0.001679   \n",
       "Age                    0.002902       0.012601  -0.014370 -0.002901  0.015911   \n",
       "Coma score            -0.005257       0.016351  -0.009284  0.004323  0.001476   \n",
       "Diuresis               0.014366      -0.010999   0.023644 -0.006942 -0.016646   \n",
       "Platelets             -0.000346       0.010175   0.001908 -0.010824  0.013604   \n",
       "HBB                    0.005611      -0.005468  -0.001509 -0.010859 -0.011888   \n",
       "d-dimer                0.001157      -0.002948   0.016980  0.001513 -0.013268   \n",
       "Heart rate            -0.006261      -0.010150   0.009506 -0.000490  0.015347   \n",
       "HDL cholesterol       -0.004816      -0.007721  -0.006328  0.013661  0.014647   \n",
       "Charlson Index         1.000000      -0.002044   0.004246  0.009082 -0.006845   \n",
       "Blood Glucose         -0.002044       1.000000   0.016026  0.008049 -0.004286   \n",
       "Insurance              0.004246       0.016026   1.000000 -0.010559 -0.005670   \n",
       "salary                 0.009082       0.008049  -0.010559  1.000000  0.022641   \n",
       "FT/month              -0.006845      -0.004286  -0.005670  0.022641  1.000000   \n",
       "Infect_Prob           -0.011368      -0.009654   0.009996 -0.024621 -0.001474   \n",
       "\n",
       "                 Infect_Prob  \n",
       "Children            0.226795  \n",
       "Deaths/1M           0.174994  \n",
       "Age                -0.331258  \n",
       "Coma score          0.038400  \n",
       "Diuresis            0.006887  \n",
       "Platelets           0.066727  \n",
       "HBB                 0.019354  \n",
       "d-dimer             0.021304  \n",
       "Heart rate         -0.003647  \n",
       "HDL cholesterol     0.013240  \n",
       "Charlson Index     -0.011368  \n",
       "Blood Glucose      -0.009654  \n",
       "Insurance           0.009996  \n",
       "salary             -0.024621  \n",
       "FT/month           -0.001474  \n",
       "Infect_Prob         1.000000  "
      ]
     },
     "execution_count": 285,
     "metadata": {},
     "output_type": "execute_result"
    }
   ],
   "source": [
    "data_dis.corr()"
   ]
  },
  {
   "cell_type": "code",
   "execution_count": 116,
   "metadata": {},
   "outputs": [],
   "source": [
    "from sklearn.preprocessing import LabelEncoder\n",
    "label_encoder= LabelEncoder()"
   ]
  },
  {
   "cell_type": "code",
   "execution_count": 79,
   "metadata": {},
   "outputs": [
    {
     "data": {
      "text/plain": [
       "pooja              122\n",
       "jyoti               65\n",
       "poonam              55\n",
       "deepak              50\n",
       "suman               49\n",
       "                  ... \n",
       "arun kumar jain      1\n",
       "himanshu @ nonu      1\n",
       "partap               1\n",
       "alaudin              1\n",
       "noor mhoomad         1\n",
       "Name: Name, Length: 6304, dtype: int64"
      ]
     },
     "execution_count": 79,
     "metadata": {},
     "output_type": "execute_result"
    }
   ],
   "source": [
    "data_cat['Name'].value_counts()"
   ]
  },
  {
   "cell_type": "code",
   "execution_count": 80,
   "metadata": {},
   "outputs": [
    {
     "data": {
      "text/plain": [
       "31"
      ]
     },
     "execution_count": 80,
     "metadata": {},
     "output_type": "execute_result"
    }
   ],
   "source": [
    "data_cat['Name'].value_counts()[20]"
   ]
  },
  {
   "cell_type": "code",
   "execution_count": null,
   "metadata": {},
   "outputs": [],
   "source": [
    "if (data_cat['Name'].value_counts()[i]<50):\n",
    "    data_cat['Name']"
   ]
  },
  {
   "cell_type": "code",
   "execution_count": 130,
   "metadata": {},
   "outputs": [
    {
     "data": {
      "text/html": [
       "<div>\n",
       "<style scoped>\n",
       "    .dataframe tbody tr th:only-of-type {\n",
       "        vertical-align: middle;\n",
       "    }\n",
       "\n",
       "    .dataframe tbody tr th {\n",
       "        vertical-align: top;\n",
       "    }\n",
       "\n",
       "    .dataframe thead th {\n",
       "        text-align: right;\n",
       "    }\n",
       "</style>\n",
       "<table border=\"1\" class=\"dataframe\">\n",
       "  <thead>\n",
       "    <tr style=\"text-align: right;\">\n",
       "      <th></th>\n",
       "      <th>Infect_Prob</th>\n",
       "    </tr>\n",
       "    <tr>\n",
       "      <th>Occupation</th>\n",
       "      <th></th>\n",
       "    </tr>\n",
       "  </thead>\n",
       "  <tbody>\n",
       "    <tr>\n",
       "      <td>Business</td>\n",
       "      <td>51.859683</td>\n",
       "    </tr>\n",
       "    <tr>\n",
       "      <td>Cleaner</td>\n",
       "      <td>51.740274</td>\n",
       "    </tr>\n",
       "    <tr>\n",
       "      <td>Clerk</td>\n",
       "      <td>52.058502</td>\n",
       "    </tr>\n",
       "    <tr>\n",
       "      <td>Driver</td>\n",
       "      <td>52.157709</td>\n",
       "    </tr>\n",
       "    <tr>\n",
       "      <td>Farmer</td>\n",
       "      <td>50.758001</td>\n",
       "    </tr>\n",
       "    <tr>\n",
       "      <td>Legal</td>\n",
       "      <td>54.267999</td>\n",
       "    </tr>\n",
       "    <tr>\n",
       "      <td>Manufacturing</td>\n",
       "      <td>51.716016</td>\n",
       "    </tr>\n",
       "    <tr>\n",
       "      <td>Researcher</td>\n",
       "      <td>52.172316</td>\n",
       "    </tr>\n",
       "    <tr>\n",
       "      <td>Sales</td>\n",
       "      <td>52.320812</td>\n",
       "    </tr>\n",
       "  </tbody>\n",
       "</table>\n",
       "</div>"
      ],
      "text/plain": [
       "               Infect_Prob\n",
       "Occupation                \n",
       "Business         51.859683\n",
       "Cleaner          51.740274\n",
       "Clerk            52.058502\n",
       "Driver           52.157709\n",
       "Farmer           50.758001\n",
       "Legal            54.267999\n",
       "Manufacturing    51.716016\n",
       "Researcher       52.172316\n",
       "Sales            52.320812"
      ]
     },
     "execution_count": 130,
     "metadata": {},
     "output_type": "execute_result"
    }
   ],
   "source": [
    "pd.pivot_table(data,index=['Occupation'],values='Infect_Prob')"
   ]
  },
  {
   "cell_type": "code",
   "execution_count": 131,
   "metadata": {},
   "outputs": [
    {
     "data": {
      "text/plain": [
       "0    Legal\n",
       "dtype: object"
      ]
     },
     "execution_count": 131,
     "metadata": {},
     "output_type": "execute_result"
    }
   ],
   "source": [
    "data_cat['Occupation'].dropna().mode()"
   ]
  },
  {
   "cell_type": "code",
   "execution_count": 132,
   "metadata": {},
   "outputs": [
    {
     "name": "stderr",
     "output_type": "stream",
     "text": [
      "D:\\Python\\lib\\site-packages\\ipykernel_launcher.py:1: SettingWithCopyWarning: \n",
      "A value is trying to be set on a copy of a slice from a DataFrame.\n",
      "Try using .loc[row_indexer,col_indexer] = value instead\n",
      "\n",
      "See the caveats in the documentation: http://pandas.pydata.org/pandas-docs/stable/user_guide/indexing.html#returning-a-view-versus-a-copy\n",
      "  \"\"\"Entry point for launching an IPython kernel.\n"
     ]
    }
   ],
   "source": [
    "data_cat['Occupation']= data_cat['Occupation'].fillna('Legal')"
   ]
  },
  {
   "cell_type": "code",
   "execution_count": 133,
   "metadata": {},
   "outputs": [
    {
     "data": {
      "text/plain": [
       "0    Public\n",
       "dtype: object"
      ]
     },
     "execution_count": 133,
     "metadata": {},
     "output_type": "execute_result"
    }
   ],
   "source": [
    "data_cat['Mode_transport'].dropna().mode()"
   ]
  },
  {
   "cell_type": "code",
   "execution_count": 134,
   "metadata": {},
   "outputs": [
    {
     "name": "stderr",
     "output_type": "stream",
     "text": [
      "D:\\Python\\lib\\site-packages\\ipykernel_launcher.py:1: SettingWithCopyWarning: \n",
      "A value is trying to be set on a copy of a slice from a DataFrame.\n",
      "Try using .loc[row_indexer,col_indexer] = value instead\n",
      "\n",
      "See the caveats in the documentation: http://pandas.pydata.org/pandas-docs/stable/user_guide/indexing.html#returning-a-view-versus-a-copy\n",
      "  \"\"\"Entry point for launching an IPython kernel.\n"
     ]
    }
   ],
   "source": [
    "data_cat['Mode_transport']= data_cat['Mode_transport'].fillna('Public')"
   ]
  },
  {
   "cell_type": "code",
   "execution_count": 135,
   "metadata": {},
   "outputs": [
    {
     "data": {
      "text/plain": [
       "0    Hypertension\n",
       "dtype: object"
      ]
     },
     "execution_count": 135,
     "metadata": {},
     "output_type": "execute_result"
    }
   ],
   "source": [
    "data_cat['comorbidity'].dropna().mode()"
   ]
  },
  {
   "cell_type": "code",
   "execution_count": 136,
   "metadata": {},
   "outputs": [
    {
     "name": "stderr",
     "output_type": "stream",
     "text": [
      "D:\\Python\\lib\\site-packages\\ipykernel_launcher.py:1: SettingWithCopyWarning: \n",
      "A value is trying to be set on a copy of a slice from a DataFrame.\n",
      "Try using .loc[row_indexer,col_indexer] = value instead\n",
      "\n",
      "See the caveats in the documentation: http://pandas.pydata.org/pandas-docs/stable/user_guide/indexing.html#returning-a-view-versus-a-copy\n",
      "  \"\"\"Entry point for launching an IPython kernel.\n"
     ]
    }
   ],
   "source": [
    "data_cat['comorbidity']= data_cat['comorbidity'].fillna('Hypertension')"
   ]
  },
  {
   "cell_type": "code",
   "execution_count": 137,
   "metadata": {},
   "outputs": [
    {
     "data": {
      "text/plain": [
       "0"
      ]
     },
     "execution_count": 137,
     "metadata": {},
     "output_type": "execute_result"
    }
   ],
   "source": [
    "data_cat['comorbidity'].isnull().sum()"
   ]
  },
  {
   "cell_type": "code",
   "execution_count": 138,
   "metadata": {},
   "outputs": [
    {
     "data": {
      "text/plain": [
       "0    Normal\n",
       "dtype: object"
      ]
     },
     "execution_count": 138,
     "metadata": {},
     "output_type": "execute_result"
    }
   ],
   "source": [
    "data_cat['cardiological pressure'].dropna().mode()"
   ]
  },
  {
   "cell_type": "code",
   "execution_count": 139,
   "metadata": {},
   "outputs": [
    {
     "name": "stderr",
     "output_type": "stream",
     "text": [
      "D:\\Python\\lib\\site-packages\\ipykernel_launcher.py:1: SettingWithCopyWarning: \n",
      "A value is trying to be set on a copy of a slice from a DataFrame.\n",
      "Try using .loc[row_indexer,col_indexer] = value instead\n",
      "\n",
      "See the caveats in the documentation: http://pandas.pydata.org/pandas-docs/stable/user_guide/indexing.html#returning-a-view-versus-a-copy\n",
      "  \"\"\"Entry point for launching an IPython kernel.\n"
     ]
    }
   ],
   "source": [
    "data_cat['cardiological pressure']= data_cat['cardiological pressure'].fillna('Normal')"
   ]
  },
  {
   "cell_type": "code",
   "execution_count": 140,
   "metadata": {},
   "outputs": [
    {
     "data": {
      "text/plain": [
       "Region                    0\n",
       "Gender                    0\n",
       "Married                   0\n",
       "Occupation                0\n",
       "Mode_transport            0\n",
       "comorbidity               0\n",
       "Pulmonary score           0\n",
       "cardiological pressure    0\n",
       "dtype: int64"
      ]
     },
     "execution_count": 140,
     "metadata": {},
     "output_type": "execute_result"
    }
   ],
   "source": [
    "data_cat.isnull().sum()"
   ]
  },
  {
   "cell_type": "code",
   "execution_count": 158,
   "metadata": {},
   "outputs": [
    {
     "data": {
      "text/plain": [
       "Children            311\n",
       "Deaths/1M             0\n",
       "Age                   0\n",
       "Coma score            0\n",
       "Diuresis            716\n",
       "Platelets           924\n",
       "HBB                   0\n",
       "d-dimer            1114\n",
       "Heart rate         1114\n",
       "HDL cholesterol       0\n",
       "Charlson Index        0\n",
       "Blood Glucose         0\n",
       "Insurance          1090\n",
       "salary                0\n",
       "FT/month            723\n",
       "Infect_Prob           0\n",
       "dtype: int64"
      ]
     },
     "execution_count": 158,
     "metadata": {},
     "output_type": "execute_result"
    }
   ],
   "source": [
    "data_dis.isnull().sum()"
   ]
  },
  {
   "cell_type": "code",
   "execution_count": null,
   "metadata": {},
   "outputs": [],
   "source": [
    "for data_i in comb:\n",
    "    data_i['Occupation']= data_i['Occupation'].map({'Farmer':0,'Legal':1,'Manufacturing':1,'Bussiness':1,'Cleaner':1,'')"
   ]
  },
  {
   "cell_type": "code",
   "execution_count": 141,
   "metadata": {},
   "outputs": [
    {
     "data": {
      "text/plain": [
       "0    Diabetes\n",
       "dtype: object"
      ]
     },
     "execution_count": 141,
     "metadata": {},
     "output_type": "execute_result"
    }
   ],
   "source": [
    "data_test['comorbidity'].dropna().mode()"
   ]
  },
  {
   "cell_type": "code",
   "execution_count": 146,
   "metadata": {},
   "outputs": [
    {
     "data": {
      "text/plain": [
       "Children           0\n",
       "Deaths/1M          0\n",
       "Age                0\n",
       "Coma score         0\n",
       "Diuresis           0\n",
       "Platelets          0\n",
       "HBB                0\n",
       "d-dimer            0\n",
       "Heart rate         0\n",
       "HDL cholesterol    0\n",
       "Charlson Index     0\n",
       "Blood Glucose      0\n",
       "Insurance          0\n",
       "salary             0\n",
       "FT/month           0\n",
       "dtype: int64"
      ]
     },
     "execution_count": 146,
     "metadata": {},
     "output_type": "execute_result"
    }
   ],
   "source": [
    "data_test_dis.isnull().sum()"
   ]
  },
  {
   "cell_type": "code",
   "execution_count": 143,
   "metadata": {},
   "outputs": [
    {
     "name": "stderr",
     "output_type": "stream",
     "text": [
      "D:\\Python\\lib\\site-packages\\ipykernel_launcher.py:3: SettingWithCopyWarning: \n",
      "A value is trying to be set on a copy of a slice from a DataFrame.\n",
      "Try using .loc[row_indexer,col_indexer] = value instead\n",
      "\n",
      "See the caveats in the documentation: http://pandas.pydata.org/pandas-docs/stable/user_guide/indexing.html#returning-a-view-versus-a-copy\n",
      "  This is separate from the ipykernel package so we can avoid doing imports until\n"
     ]
    }
   ],
   "source": [
    "for dat in comb_cat:\n",
    "    for colu in dat.columns:\n",
    "        dat[colu]= label_encoder.fit_transform(dat[colu])"
   ]
  },
  {
   "cell_type": "code",
   "execution_count": 144,
   "metadata": {},
   "outputs": [
    {
     "data": {
      "text/html": [
       "<div>\n",
       "<style scoped>\n",
       "    .dataframe tbody tr th:only-of-type {\n",
       "        vertical-align: middle;\n",
       "    }\n",
       "\n",
       "    .dataframe tbody tr th {\n",
       "        vertical-align: top;\n",
       "    }\n",
       "\n",
       "    .dataframe thead th {\n",
       "        text-align: right;\n",
       "    }\n",
       "</style>\n",
       "<table border=\"1\" class=\"dataframe\">\n",
       "  <thead>\n",
       "    <tr style=\"text-align: right;\">\n",
       "      <th></th>\n",
       "      <th>Region</th>\n",
       "      <th>Gender</th>\n",
       "      <th>Married</th>\n",
       "      <th>Occupation</th>\n",
       "      <th>Mode_transport</th>\n",
       "      <th>comorbidity</th>\n",
       "      <th>Pulmonary score</th>\n",
       "      <th>cardiological pressure</th>\n",
       "    </tr>\n",
       "  </thead>\n",
       "  <tbody>\n",
       "    <tr>\n",
       "      <td>0</td>\n",
       "      <td>1</td>\n",
       "      <td>0</td>\n",
       "      <td>1</td>\n",
       "      <td>4</td>\n",
       "      <td>1</td>\n",
       "      <td>2</td>\n",
       "      <td>3</td>\n",
       "      <td>1</td>\n",
       "    </tr>\n",
       "    <tr>\n",
       "      <td>1</td>\n",
       "      <td>1</td>\n",
       "      <td>0</td>\n",
       "      <td>1</td>\n",
       "      <td>4</td>\n",
       "      <td>2</td>\n",
       "      <td>1</td>\n",
       "      <td>0</td>\n",
       "      <td>3</td>\n",
       "    </tr>\n",
       "    <tr>\n",
       "      <td>2</td>\n",
       "      <td>1</td>\n",
       "      <td>0</td>\n",
       "      <td>0</td>\n",
       "      <td>1</td>\n",
       "      <td>1</td>\n",
       "      <td>3</td>\n",
       "      <td>2</td>\n",
       "      <td>0</td>\n",
       "    </tr>\n",
       "    <tr>\n",
       "      <td>3</td>\n",
       "      <td>1</td>\n",
       "      <td>0</td>\n",
       "      <td>1</td>\n",
       "      <td>3</td>\n",
       "      <td>0</td>\n",
       "      <td>0</td>\n",
       "      <td>1</td>\n",
       "      <td>2</td>\n",
       "    </tr>\n",
       "    <tr>\n",
       "      <td>4</td>\n",
       "      <td>1</td>\n",
       "      <td>0</td>\n",
       "      <td>0</td>\n",
       "      <td>6</td>\n",
       "      <td>0</td>\n",
       "      <td>1</td>\n",
       "      <td>3</td>\n",
       "      <td>1</td>\n",
       "    </tr>\n",
       "    <tr>\n",
       "      <td>...</td>\n",
       "      <td>...</td>\n",
       "      <td>...</td>\n",
       "      <td>...</td>\n",
       "      <td>...</td>\n",
       "      <td>...</td>\n",
       "      <td>...</td>\n",
       "      <td>...</td>\n",
       "      <td>...</td>\n",
       "    </tr>\n",
       "    <tr>\n",
       "      <td>10709</td>\n",
       "      <td>0</td>\n",
       "      <td>1</td>\n",
       "      <td>0</td>\n",
       "      <td>0</td>\n",
       "      <td>0</td>\n",
       "      <td>1</td>\n",
       "      <td>3</td>\n",
       "      <td>1</td>\n",
       "    </tr>\n",
       "    <tr>\n",
       "      <td>10710</td>\n",
       "      <td>0</td>\n",
       "      <td>1</td>\n",
       "      <td>1</td>\n",
       "      <td>6</td>\n",
       "      <td>0</td>\n",
       "      <td>3</td>\n",
       "      <td>3</td>\n",
       "      <td>1</td>\n",
       "    </tr>\n",
       "    <tr>\n",
       "      <td>10711</td>\n",
       "      <td>0</td>\n",
       "      <td>1</td>\n",
       "      <td>1</td>\n",
       "      <td>2</td>\n",
       "      <td>1</td>\n",
       "      <td>1</td>\n",
       "      <td>0</td>\n",
       "      <td>3</td>\n",
       "    </tr>\n",
       "    <tr>\n",
       "      <td>10712</td>\n",
       "      <td>0</td>\n",
       "      <td>1</td>\n",
       "      <td>1</td>\n",
       "      <td>5</td>\n",
       "      <td>2</td>\n",
       "      <td>0</td>\n",
       "      <td>2</td>\n",
       "      <td>0</td>\n",
       "    </tr>\n",
       "    <tr>\n",
       "      <td>10713</td>\n",
       "      <td>0</td>\n",
       "      <td>1</td>\n",
       "      <td>0</td>\n",
       "      <td>0</td>\n",
       "      <td>0</td>\n",
       "      <td>1</td>\n",
       "      <td>3</td>\n",
       "      <td>1</td>\n",
       "    </tr>\n",
       "  </tbody>\n",
       "</table>\n",
       "<p>10714 rows × 8 columns</p>\n",
       "</div>"
      ],
      "text/plain": [
       "       Region  Gender  Married  Occupation  Mode_transport  comorbidity  \\\n",
       "0           1       0        1           4               1            2   \n",
       "1           1       0        1           4               2            1   \n",
       "2           1       0        0           1               1            3   \n",
       "3           1       0        1           3               0            0   \n",
       "4           1       0        0           6               0            1   \n",
       "...       ...     ...      ...         ...             ...          ...   \n",
       "10709       0       1        0           0               0            1   \n",
       "10710       0       1        1           6               0            3   \n",
       "10711       0       1        1           2               1            1   \n",
       "10712       0       1        1           5               2            0   \n",
       "10713       0       1        0           0               0            1   \n",
       "\n",
       "       Pulmonary score  cardiological pressure  \n",
       "0                    3                       1  \n",
       "1                    0                       3  \n",
       "2                    2                       0  \n",
       "3                    1                       2  \n",
       "4                    3                       1  \n",
       "...                ...                     ...  \n",
       "10709                3                       1  \n",
       "10710                3                       1  \n",
       "10711                0                       3  \n",
       "10712                2                       0  \n",
       "10713                3                       1  \n",
       "\n",
       "[10714 rows x 8 columns]"
      ]
     },
     "execution_count": 144,
     "metadata": {},
     "output_type": "execute_result"
    }
   ],
   "source": [
    "data_cat"
   ]
  },
  {
   "cell_type": "code",
   "execution_count": 148,
   "metadata": {},
   "outputs": [
    {
     "name": "stderr",
     "output_type": "stream",
     "text": [
      "D:\\Python\\lib\\site-packages\\ipykernel_launcher.py:1: SettingWithCopyWarning: \n",
      "A value is trying to be set on a copy of a slice from a DataFrame.\n",
      "Try using .loc[row_indexer,col_indexer] = value instead\n",
      "\n",
      "See the caveats in the documentation: http://pandas.pydata.org/pandas-docs/stable/user_guide/indexing.html#returning-a-view-versus-a-copy\n",
      "  \"\"\"Entry point for launching an IPython kernel.\n"
     ]
    }
   ],
   "source": [
    "data_dis['HDL cholesterol']= data_dis['HDL cholesterol'].fillna(data_dis['HDL cholesterol'].dropna().median())"
   ]
  },
  {
   "cell_type": "code",
   "execution_count": 149,
   "metadata": {},
   "outputs": [
    {
     "name": "stderr",
     "output_type": "stream",
     "text": [
      "D:\\Python\\lib\\site-packages\\ipykernel_launcher.py:1: SettingWithCopyWarning: \n",
      "A value is trying to be set on a copy of a slice from a DataFrame.\n",
      "Try using .loc[row_indexer,col_indexer] = value instead\n",
      "\n",
      "See the caveats in the documentation: http://pandas.pydata.org/pandas-docs/stable/user_guide/indexing.html#returning-a-view-versus-a-copy\n",
      "  \"\"\"Entry point for launching an IPython kernel.\n"
     ]
    }
   ],
   "source": [
    "data_dis['HBB']= data_dis['HBB'].fillna(data_dis['HBB'].dropna().median())"
   ]
  },
  {
   "cell_type": "code",
   "execution_count": 243,
   "metadata": {},
   "outputs": [],
   "source": [
    "data_con= pd.concat([data_dis,data_cat],axis=1)"
   ]
  },
  {
   "cell_type": "code",
   "execution_count": 177,
   "metadata": {},
   "outputs": [
    {
     "data": {
      "text/html": [
       "<div>\n",
       "<style scoped>\n",
       "    .dataframe tbody tr th:only-of-type {\n",
       "        vertical-align: middle;\n",
       "    }\n",
       "\n",
       "    .dataframe tbody tr th {\n",
       "        vertical-align: top;\n",
       "    }\n",
       "\n",
       "    .dataframe thead th {\n",
       "        text-align: right;\n",
       "    }\n",
       "</style>\n",
       "<table border=\"1\" class=\"dataframe\">\n",
       "  <thead>\n",
       "    <tr style=\"text-align: right;\">\n",
       "      <th></th>\n",
       "      <th>Children</th>\n",
       "      <th>Deaths/1M</th>\n",
       "      <th>Age</th>\n",
       "      <th>Coma score</th>\n",
       "      <th>Diuresis</th>\n",
       "      <th>Platelets</th>\n",
       "      <th>HBB</th>\n",
       "      <th>d-dimer</th>\n",
       "      <th>Heart rate</th>\n",
       "      <th>HDL cholesterol</th>\n",
       "      <th>...</th>\n",
       "      <th>FT/month</th>\n",
       "      <th>Infect_Prob</th>\n",
       "      <th>Region</th>\n",
       "      <th>Gender</th>\n",
       "      <th>Married</th>\n",
       "      <th>Occupation</th>\n",
       "      <th>Mode_transport</th>\n",
       "      <th>comorbidity</th>\n",
       "      <th>Pulmonary score</th>\n",
       "      <th>cardiological pressure</th>\n",
       "    </tr>\n",
       "  </thead>\n",
       "  <tbody>\n",
       "    <tr>\n",
       "      <td>Children</td>\n",
       "      <td>1.000000</td>\n",
       "      <td>0.022231</td>\n",
       "      <td>-5.100770e-02</td>\n",
       "      <td>0.025788</td>\n",
       "      <td>-0.012099</td>\n",
       "      <td>0.024257</td>\n",
       "      <td>0.010003</td>\n",
       "      <td>0.004237</td>\n",
       "      <td>0.004667</td>\n",
       "      <td>-0.006087</td>\n",
       "      <td>...</td>\n",
       "      <td>0.004873</td>\n",
       "      <td>0.226795</td>\n",
       "      <td>7.961278e-02</td>\n",
       "      <td>0.008559</td>\n",
       "      <td>-0.079724</td>\n",
       "      <td>-0.031391</td>\n",
       "      <td>0.008677</td>\n",
       "      <td>0.021162</td>\n",
       "      <td>-0.004288</td>\n",
       "      <td>0.004610</td>\n",
       "    </tr>\n",
       "    <tr>\n",
       "      <td>Deaths/1M</td>\n",
       "      <td>0.022231</td>\n",
       "      <td>1.000000</td>\n",
       "      <td>3.990623e-03</td>\n",
       "      <td>-0.010302</td>\n",
       "      <td>0.029605</td>\n",
       "      <td>0.009392</td>\n",
       "      <td>0.010385</td>\n",
       "      <td>0.000231</td>\n",
       "      <td>0.011776</td>\n",
       "      <td>0.007679</td>\n",
       "      <td>...</td>\n",
       "      <td>0.001679</td>\n",
       "      <td>0.174994</td>\n",
       "      <td>-6.500988e-01</td>\n",
       "      <td>-0.000102</td>\n",
       "      <td>0.009521</td>\n",
       "      <td>-0.011643</td>\n",
       "      <td>-0.003457</td>\n",
       "      <td>-0.001916</td>\n",
       "      <td>-0.020436</td>\n",
       "      <td>0.007570</td>\n",
       "    </tr>\n",
       "    <tr>\n",
       "      <td>Age</td>\n",
       "      <td>-0.051008</td>\n",
       "      <td>0.003991</td>\n",
       "      <td>1.000000e+00</td>\n",
       "      <td>-0.002618</td>\n",
       "      <td>-0.006002</td>\n",
       "      <td>0.011583</td>\n",
       "      <td>0.013847</td>\n",
       "      <td>-0.007124</td>\n",
       "      <td>0.003763</td>\n",
       "      <td>-0.003980</td>\n",
       "      <td>...</td>\n",
       "      <td>0.015911</td>\n",
       "      <td>-0.331258</td>\n",
       "      <td>6.376006e-07</td>\n",
       "      <td>-0.005604</td>\n",
       "      <td>0.705147</td>\n",
       "      <td>-0.028907</td>\n",
       "      <td>-0.008853</td>\n",
       "      <td>0.010581</td>\n",
       "      <td>-0.014287</td>\n",
       "      <td>0.009135</td>\n",
       "    </tr>\n",
       "    <tr>\n",
       "      <td>Coma score</td>\n",
       "      <td>0.025788</td>\n",
       "      <td>-0.010302</td>\n",
       "      <td>-2.618229e-03</td>\n",
       "      <td>1.000000</td>\n",
       "      <td>0.003086</td>\n",
       "      <td>-0.014236</td>\n",
       "      <td>0.006820</td>\n",
       "      <td>0.000628</td>\n",
       "      <td>-0.007071</td>\n",
       "      <td>0.007181</td>\n",
       "      <td>...</td>\n",
       "      <td>0.001476</td>\n",
       "      <td>0.038400</td>\n",
       "      <td>3.333097e-02</td>\n",
       "      <td>0.010999</td>\n",
       "      <td>0.001248</td>\n",
       "      <td>-0.006917</td>\n",
       "      <td>-0.009496</td>\n",
       "      <td>0.003256</td>\n",
       "      <td>-0.008191</td>\n",
       "      <td>0.000517</td>\n",
       "    </tr>\n",
       "    <tr>\n",
       "      <td>Diuresis</td>\n",
       "      <td>-0.012099</td>\n",
       "      <td>0.029605</td>\n",
       "      <td>-6.002179e-03</td>\n",
       "      <td>0.003086</td>\n",
       "      <td>1.000000</td>\n",
       "      <td>0.009593</td>\n",
       "      <td>0.003931</td>\n",
       "      <td>-0.009508</td>\n",
       "      <td>-0.007295</td>\n",
       "      <td>0.011152</td>\n",
       "      <td>...</td>\n",
       "      <td>-0.016646</td>\n",
       "      <td>0.006887</td>\n",
       "      <td>-3.063009e-02</td>\n",
       "      <td>0.017173</td>\n",
       "      <td>0.007822</td>\n",
       "      <td>0.005361</td>\n",
       "      <td>-0.006269</td>\n",
       "      <td>0.001504</td>\n",
       "      <td>0.000529</td>\n",
       "      <td>-0.001305</td>\n",
       "    </tr>\n",
       "    <tr>\n",
       "      <td>Platelets</td>\n",
       "      <td>0.024257</td>\n",
       "      <td>0.009392</td>\n",
       "      <td>1.158297e-02</td>\n",
       "      <td>-0.014236</td>\n",
       "      <td>0.009593</td>\n",
       "      <td>1.000000</td>\n",
       "      <td>-0.008051</td>\n",
       "      <td>0.014238</td>\n",
       "      <td>-0.007283</td>\n",
       "      <td>-0.020922</td>\n",
       "      <td>...</td>\n",
       "      <td>0.013604</td>\n",
       "      <td>0.066727</td>\n",
       "      <td>2.601307e-02</td>\n",
       "      <td>-0.008014</td>\n",
       "      <td>-0.001198</td>\n",
       "      <td>-0.002113</td>\n",
       "      <td>-0.006425</td>\n",
       "      <td>0.000462</td>\n",
       "      <td>0.004033</td>\n",
       "      <td>0.004692</td>\n",
       "    </tr>\n",
       "    <tr>\n",
       "      <td>HBB</td>\n",
       "      <td>0.010003</td>\n",
       "      <td>0.010385</td>\n",
       "      <td>1.384714e-02</td>\n",
       "      <td>0.006820</td>\n",
       "      <td>0.003931</td>\n",
       "      <td>-0.008051</td>\n",
       "      <td>1.000000</td>\n",
       "      <td>-0.006552</td>\n",
       "      <td>-0.000053</td>\n",
       "      <td>0.004307</td>\n",
       "      <td>...</td>\n",
       "      <td>-0.011888</td>\n",
       "      <td>0.019354</td>\n",
       "      <td>2.662110e-02</td>\n",
       "      <td>0.004472</td>\n",
       "      <td>0.013627</td>\n",
       "      <td>0.010236</td>\n",
       "      <td>-0.002313</td>\n",
       "      <td>-0.000713</td>\n",
       "      <td>0.001645</td>\n",
       "      <td>0.003567</td>\n",
       "    </tr>\n",
       "    <tr>\n",
       "      <td>d-dimer</td>\n",
       "      <td>0.004237</td>\n",
       "      <td>0.000231</td>\n",
       "      <td>-7.123576e-03</td>\n",
       "      <td>0.000628</td>\n",
       "      <td>-0.009508</td>\n",
       "      <td>0.014238</td>\n",
       "      <td>-0.006552</td>\n",
       "      <td>1.000000</td>\n",
       "      <td>-0.007661</td>\n",
       "      <td>-0.002185</td>\n",
       "      <td>...</td>\n",
       "      <td>-0.013268</td>\n",
       "      <td>0.021304</td>\n",
       "      <td>-8.889460e-03</td>\n",
       "      <td>-0.009175</td>\n",
       "      <td>-0.009098</td>\n",
       "      <td>-0.007385</td>\n",
       "      <td>-0.005554</td>\n",
       "      <td>-0.003068</td>\n",
       "      <td>0.009247</td>\n",
       "      <td>-0.002191</td>\n",
       "    </tr>\n",
       "    <tr>\n",
       "      <td>Heart rate</td>\n",
       "      <td>0.004667</td>\n",
       "      <td>0.011776</td>\n",
       "      <td>3.763207e-03</td>\n",
       "      <td>-0.007071</td>\n",
       "      <td>-0.007295</td>\n",
       "      <td>-0.007283</td>\n",
       "      <td>-0.000053</td>\n",
       "      <td>-0.007661</td>\n",
       "      <td>1.000000</td>\n",
       "      <td>-0.011730</td>\n",
       "      <td>...</td>\n",
       "      <td>0.015347</td>\n",
       "      <td>-0.003647</td>\n",
       "      <td>-4.103652e-02</td>\n",
       "      <td>0.008411</td>\n",
       "      <td>-0.001422</td>\n",
       "      <td>-0.009455</td>\n",
       "      <td>-0.006493</td>\n",
       "      <td>0.003090</td>\n",
       "      <td>-0.007395</td>\n",
       "      <td>0.001797</td>\n",
       "    </tr>\n",
       "    <tr>\n",
       "      <td>HDL cholesterol</td>\n",
       "      <td>-0.006087</td>\n",
       "      <td>0.007679</td>\n",
       "      <td>-3.980278e-03</td>\n",
       "      <td>0.007181</td>\n",
       "      <td>0.011152</td>\n",
       "      <td>-0.020922</td>\n",
       "      <td>0.004307</td>\n",
       "      <td>-0.002185</td>\n",
       "      <td>-0.011730</td>\n",
       "      <td>1.000000</td>\n",
       "      <td>...</td>\n",
       "      <td>0.014647</td>\n",
       "      <td>0.013240</td>\n",
       "      <td>2.679203e-02</td>\n",
       "      <td>0.018223</td>\n",
       "      <td>0.003520</td>\n",
       "      <td>-0.014161</td>\n",
       "      <td>0.011459</td>\n",
       "      <td>-0.006978</td>\n",
       "      <td>-0.000755</td>\n",
       "      <td>0.009474</td>\n",
       "    </tr>\n",
       "    <tr>\n",
       "      <td>Charlson Index</td>\n",
       "      <td>-0.019529</td>\n",
       "      <td>-0.001806</td>\n",
       "      <td>2.902430e-03</td>\n",
       "      <td>-0.005257</td>\n",
       "      <td>0.014366</td>\n",
       "      <td>-0.000346</td>\n",
       "      <td>0.005611</td>\n",
       "      <td>0.001157</td>\n",
       "      <td>-0.006261</td>\n",
       "      <td>-0.004816</td>\n",
       "      <td>...</td>\n",
       "      <td>-0.006845</td>\n",
       "      <td>-0.011368</td>\n",
       "      <td>-9.402041e-03</td>\n",
       "      <td>0.014795</td>\n",
       "      <td>0.003239</td>\n",
       "      <td>-0.002387</td>\n",
       "      <td>-0.000633</td>\n",
       "      <td>0.002167</td>\n",
       "      <td>-0.015221</td>\n",
       "      <td>0.012597</td>\n",
       "    </tr>\n",
       "    <tr>\n",
       "      <td>Blood Glucose</td>\n",
       "      <td>0.009537</td>\n",
       "      <td>-0.005483</td>\n",
       "      <td>1.260097e-02</td>\n",
       "      <td>0.016351</td>\n",
       "      <td>-0.010999</td>\n",
       "      <td>0.010175</td>\n",
       "      <td>-0.005468</td>\n",
       "      <td>-0.002948</td>\n",
       "      <td>-0.010150</td>\n",
       "      <td>-0.007721</td>\n",
       "      <td>...</td>\n",
       "      <td>-0.004286</td>\n",
       "      <td>-0.009654</td>\n",
       "      <td>-2.714962e-03</td>\n",
       "      <td>0.009935</td>\n",
       "      <td>0.002554</td>\n",
       "      <td>-0.008234</td>\n",
       "      <td>0.011842</td>\n",
       "      <td>0.006000</td>\n",
       "      <td>-0.006813</td>\n",
       "      <td>0.015687</td>\n",
       "    </tr>\n",
       "    <tr>\n",
       "      <td>Insurance</td>\n",
       "      <td>-0.005932</td>\n",
       "      <td>0.012602</td>\n",
       "      <td>-1.437011e-02</td>\n",
       "      <td>-0.009284</td>\n",
       "      <td>0.023644</td>\n",
       "      <td>0.001908</td>\n",
       "      <td>-0.001509</td>\n",
       "      <td>0.016980</td>\n",
       "      <td>0.009506</td>\n",
       "      <td>-0.006328</td>\n",
       "      <td>...</td>\n",
       "      <td>-0.005670</td>\n",
       "      <td>0.009996</td>\n",
       "      <td>-8.121936e-03</td>\n",
       "      <td>0.003870</td>\n",
       "      <td>-0.017307</td>\n",
       "      <td>0.009229</td>\n",
       "      <td>0.011923</td>\n",
       "      <td>-0.006110</td>\n",
       "      <td>-0.006661</td>\n",
       "      <td>0.010885</td>\n",
       "    </tr>\n",
       "    <tr>\n",
       "      <td>salary</td>\n",
       "      <td>-0.018795</td>\n",
       "      <td>0.008088</td>\n",
       "      <td>-2.900750e-03</td>\n",
       "      <td>0.004323</td>\n",
       "      <td>-0.006942</td>\n",
       "      <td>-0.010824</td>\n",
       "      <td>-0.010859</td>\n",
       "      <td>0.001513</td>\n",
       "      <td>-0.000490</td>\n",
       "      <td>0.013661</td>\n",
       "      <td>...</td>\n",
       "      <td>0.022641</td>\n",
       "      <td>-0.024621</td>\n",
       "      <td>-1.731584e-02</td>\n",
       "      <td>0.012924</td>\n",
       "      <td>0.005002</td>\n",
       "      <td>0.000953</td>\n",
       "      <td>-0.001707</td>\n",
       "      <td>0.003240</td>\n",
       "      <td>0.007428</td>\n",
       "      <td>-0.012501</td>\n",
       "    </tr>\n",
       "    <tr>\n",
       "      <td>FT/month</td>\n",
       "      <td>0.004873</td>\n",
       "      <td>0.001679</td>\n",
       "      <td>1.591149e-02</td>\n",
       "      <td>0.001476</td>\n",
       "      <td>-0.016646</td>\n",
       "      <td>0.013604</td>\n",
       "      <td>-0.011888</td>\n",
       "      <td>-0.013268</td>\n",
       "      <td>0.015347</td>\n",
       "      <td>0.014647</td>\n",
       "      <td>...</td>\n",
       "      <td>1.000000</td>\n",
       "      <td>-0.001474</td>\n",
       "      <td>1.091188e-02</td>\n",
       "      <td>0.001534</td>\n",
       "      <td>0.005093</td>\n",
       "      <td>-0.009733</td>\n",
       "      <td>-0.008300</td>\n",
       "      <td>-0.011405</td>\n",
       "      <td>0.020809</td>\n",
       "      <td>-0.013326</td>\n",
       "    </tr>\n",
       "    <tr>\n",
       "      <td>Infect_Prob</td>\n",
       "      <td>0.226795</td>\n",
       "      <td>0.174994</td>\n",
       "      <td>-3.312578e-01</td>\n",
       "      <td>0.038400</td>\n",
       "      <td>0.006887</td>\n",
       "      <td>0.066727</td>\n",
       "      <td>0.019354</td>\n",
       "      <td>0.021304</td>\n",
       "      <td>-0.003647</td>\n",
       "      <td>0.013240</td>\n",
       "      <td>...</td>\n",
       "      <td>-0.001474</td>\n",
       "      <td>1.000000</td>\n",
       "      <td>-1.064677e-01</td>\n",
       "      <td>-0.000473</td>\n",
       "      <td>-0.465114</td>\n",
       "      <td>0.022994</td>\n",
       "      <td>0.004428</td>\n",
       "      <td>-0.004503</td>\n",
       "      <td>-0.009889</td>\n",
       "      <td>0.008197</td>\n",
       "    </tr>\n",
       "    <tr>\n",
       "      <td>Region</td>\n",
       "      <td>0.079613</td>\n",
       "      <td>-0.650099</td>\n",
       "      <td>6.376006e-07</td>\n",
       "      <td>0.033331</td>\n",
       "      <td>-0.030630</td>\n",
       "      <td>0.026013</td>\n",
       "      <td>0.026621</td>\n",
       "      <td>-0.008889</td>\n",
       "      <td>-0.041037</td>\n",
       "      <td>0.026792</td>\n",
       "      <td>...</td>\n",
       "      <td>0.010912</td>\n",
       "      <td>-0.106468</td>\n",
       "      <td>1.000000e+00</td>\n",
       "      <td>-0.001200</td>\n",
       "      <td>-0.002971</td>\n",
       "      <td>0.006097</td>\n",
       "      <td>-0.008242</td>\n",
       "      <td>0.018162</td>\n",
       "      <td>0.005533</td>\n",
       "      <td>0.004356</td>\n",
       "    </tr>\n",
       "    <tr>\n",
       "      <td>Gender</td>\n",
       "      <td>0.008559</td>\n",
       "      <td>-0.000102</td>\n",
       "      <td>-5.604155e-03</td>\n",
       "      <td>0.010999</td>\n",
       "      <td>0.017173</td>\n",
       "      <td>-0.008014</td>\n",
       "      <td>0.004472</td>\n",
       "      <td>-0.009175</td>\n",
       "      <td>0.008411</td>\n",
       "      <td>0.018223</td>\n",
       "      <td>...</td>\n",
       "      <td>0.001534</td>\n",
       "      <td>-0.000473</td>\n",
       "      <td>-1.200169e-03</td>\n",
       "      <td>1.000000</td>\n",
       "      <td>-0.012987</td>\n",
       "      <td>0.006008</td>\n",
       "      <td>0.001736</td>\n",
       "      <td>-0.012530</td>\n",
       "      <td>-0.003699</td>\n",
       "      <td>0.004300</td>\n",
       "    </tr>\n",
       "    <tr>\n",
       "      <td>Married</td>\n",
       "      <td>-0.079724</td>\n",
       "      <td>0.009521</td>\n",
       "      <td>7.051467e-01</td>\n",
       "      <td>0.001248</td>\n",
       "      <td>0.007822</td>\n",
       "      <td>-0.001198</td>\n",
       "      <td>0.013627</td>\n",
       "      <td>-0.009098</td>\n",
       "      <td>-0.001422</td>\n",
       "      <td>0.003520</td>\n",
       "      <td>...</td>\n",
       "      <td>0.005093</td>\n",
       "      <td>-0.465114</td>\n",
       "      <td>-2.970585e-03</td>\n",
       "      <td>-0.012987</td>\n",
       "      <td>1.000000</td>\n",
       "      <td>-0.041656</td>\n",
       "      <td>-0.007127</td>\n",
       "      <td>0.010396</td>\n",
       "      <td>-0.013401</td>\n",
       "      <td>0.010534</td>\n",
       "    </tr>\n",
       "    <tr>\n",
       "      <td>Occupation</td>\n",
       "      <td>-0.031391</td>\n",
       "      <td>-0.011643</td>\n",
       "      <td>-2.890715e-02</td>\n",
       "      <td>-0.006917</td>\n",
       "      <td>0.005361</td>\n",
       "      <td>-0.002113</td>\n",
       "      <td>0.010236</td>\n",
       "      <td>-0.007385</td>\n",
       "      <td>-0.009455</td>\n",
       "      <td>-0.014161</td>\n",
       "      <td>...</td>\n",
       "      <td>-0.009733</td>\n",
       "      <td>0.022994</td>\n",
       "      <td>6.096607e-03</td>\n",
       "      <td>0.006008</td>\n",
       "      <td>-0.041656</td>\n",
       "      <td>1.000000</td>\n",
       "      <td>-0.005395</td>\n",
       "      <td>0.003691</td>\n",
       "      <td>0.006998</td>\n",
       "      <td>-0.008348</td>\n",
       "    </tr>\n",
       "    <tr>\n",
       "      <td>Mode_transport</td>\n",
       "      <td>0.008677</td>\n",
       "      <td>-0.003457</td>\n",
       "      <td>-8.853381e-03</td>\n",
       "      <td>-0.009496</td>\n",
       "      <td>-0.006269</td>\n",
       "      <td>-0.006425</td>\n",
       "      <td>-0.002313</td>\n",
       "      <td>-0.005554</td>\n",
       "      <td>-0.006493</td>\n",
       "      <td>0.011459</td>\n",
       "      <td>...</td>\n",
       "      <td>-0.008300</td>\n",
       "      <td>0.004428</td>\n",
       "      <td>-8.241562e-03</td>\n",
       "      <td>0.001736</td>\n",
       "      <td>-0.007127</td>\n",
       "      <td>-0.005395</td>\n",
       "      <td>1.000000</td>\n",
       "      <td>0.005300</td>\n",
       "      <td>0.005467</td>\n",
       "      <td>0.010564</td>\n",
       "    </tr>\n",
       "    <tr>\n",
       "      <td>comorbidity</td>\n",
       "      <td>0.021162</td>\n",
       "      <td>-0.001916</td>\n",
       "      <td>1.058082e-02</td>\n",
       "      <td>0.003256</td>\n",
       "      <td>0.001504</td>\n",
       "      <td>0.000462</td>\n",
       "      <td>-0.000713</td>\n",
       "      <td>-0.003068</td>\n",
       "      <td>0.003090</td>\n",
       "      <td>-0.006978</td>\n",
       "      <td>...</td>\n",
       "      <td>-0.011405</td>\n",
       "      <td>-0.004503</td>\n",
       "      <td>1.816160e-02</td>\n",
       "      <td>-0.012530</td>\n",
       "      <td>0.010396</td>\n",
       "      <td>0.003691</td>\n",
       "      <td>0.005300</td>\n",
       "      <td>1.000000</td>\n",
       "      <td>-0.004178</td>\n",
       "      <td>0.006002</td>\n",
       "    </tr>\n",
       "    <tr>\n",
       "      <td>Pulmonary score</td>\n",
       "      <td>-0.004288</td>\n",
       "      <td>-0.020436</td>\n",
       "      <td>-1.428692e-02</td>\n",
       "      <td>-0.008191</td>\n",
       "      <td>0.000529</td>\n",
       "      <td>0.004033</td>\n",
       "      <td>0.001645</td>\n",
       "      <td>0.009247</td>\n",
       "      <td>-0.007395</td>\n",
       "      <td>-0.000755</td>\n",
       "      <td>...</td>\n",
       "      <td>0.020809</td>\n",
       "      <td>-0.009889</td>\n",
       "      <td>5.533330e-03</td>\n",
       "      <td>-0.003699</td>\n",
       "      <td>-0.013401</td>\n",
       "      <td>0.006998</td>\n",
       "      <td>0.005467</td>\n",
       "      <td>-0.004178</td>\n",
       "      <td>1.000000</td>\n",
       "      <td>-0.794848</td>\n",
       "    </tr>\n",
       "    <tr>\n",
       "      <td>cardiological pressure</td>\n",
       "      <td>0.004610</td>\n",
       "      <td>0.007570</td>\n",
       "      <td>9.135446e-03</td>\n",
       "      <td>0.000517</td>\n",
       "      <td>-0.001305</td>\n",
       "      <td>0.004692</td>\n",
       "      <td>0.003567</td>\n",
       "      <td>-0.002191</td>\n",
       "      <td>0.001797</td>\n",
       "      <td>0.009474</td>\n",
       "      <td>...</td>\n",
       "      <td>-0.013326</td>\n",
       "      <td>0.008197</td>\n",
       "      <td>4.355965e-03</td>\n",
       "      <td>0.004300</td>\n",
       "      <td>0.010534</td>\n",
       "      <td>-0.008348</td>\n",
       "      <td>0.010564</td>\n",
       "      <td>0.006002</td>\n",
       "      <td>-0.794848</td>\n",
       "      <td>1.000000</td>\n",
       "    </tr>\n",
       "  </tbody>\n",
       "</table>\n",
       "<p>24 rows × 24 columns</p>\n",
       "</div>"
      ],
      "text/plain": [
       "                        Children  Deaths/1M           Age  Coma score  \\\n",
       "Children                1.000000   0.022231 -5.100770e-02    0.025788   \n",
       "Deaths/1M               0.022231   1.000000  3.990623e-03   -0.010302   \n",
       "Age                    -0.051008   0.003991  1.000000e+00   -0.002618   \n",
       "Coma score              0.025788  -0.010302 -2.618229e-03    1.000000   \n",
       "Diuresis               -0.012099   0.029605 -6.002179e-03    0.003086   \n",
       "Platelets               0.024257   0.009392  1.158297e-02   -0.014236   \n",
       "HBB                     0.010003   0.010385  1.384714e-02    0.006820   \n",
       "d-dimer                 0.004237   0.000231 -7.123576e-03    0.000628   \n",
       "Heart rate              0.004667   0.011776  3.763207e-03   -0.007071   \n",
       "HDL cholesterol        -0.006087   0.007679 -3.980278e-03    0.007181   \n",
       "Charlson Index         -0.019529  -0.001806  2.902430e-03   -0.005257   \n",
       "Blood Glucose           0.009537  -0.005483  1.260097e-02    0.016351   \n",
       "Insurance              -0.005932   0.012602 -1.437011e-02   -0.009284   \n",
       "salary                 -0.018795   0.008088 -2.900750e-03    0.004323   \n",
       "FT/month                0.004873   0.001679  1.591149e-02    0.001476   \n",
       "Infect_Prob             0.226795   0.174994 -3.312578e-01    0.038400   \n",
       "Region                  0.079613  -0.650099  6.376006e-07    0.033331   \n",
       "Gender                  0.008559  -0.000102 -5.604155e-03    0.010999   \n",
       "Married                -0.079724   0.009521  7.051467e-01    0.001248   \n",
       "Occupation             -0.031391  -0.011643 -2.890715e-02   -0.006917   \n",
       "Mode_transport          0.008677  -0.003457 -8.853381e-03   -0.009496   \n",
       "comorbidity             0.021162  -0.001916  1.058082e-02    0.003256   \n",
       "Pulmonary score        -0.004288  -0.020436 -1.428692e-02   -0.008191   \n",
       "cardiological pressure  0.004610   0.007570  9.135446e-03    0.000517   \n",
       "\n",
       "                        Diuresis  Platelets       HBB   d-dimer  Heart rate  \\\n",
       "Children               -0.012099   0.024257  0.010003  0.004237    0.004667   \n",
       "Deaths/1M               0.029605   0.009392  0.010385  0.000231    0.011776   \n",
       "Age                    -0.006002   0.011583  0.013847 -0.007124    0.003763   \n",
       "Coma score              0.003086  -0.014236  0.006820  0.000628   -0.007071   \n",
       "Diuresis                1.000000   0.009593  0.003931 -0.009508   -0.007295   \n",
       "Platelets               0.009593   1.000000 -0.008051  0.014238   -0.007283   \n",
       "HBB                     0.003931  -0.008051  1.000000 -0.006552   -0.000053   \n",
       "d-dimer                -0.009508   0.014238 -0.006552  1.000000   -0.007661   \n",
       "Heart rate             -0.007295  -0.007283 -0.000053 -0.007661    1.000000   \n",
       "HDL cholesterol         0.011152  -0.020922  0.004307 -0.002185   -0.011730   \n",
       "Charlson Index          0.014366  -0.000346  0.005611  0.001157   -0.006261   \n",
       "Blood Glucose          -0.010999   0.010175 -0.005468 -0.002948   -0.010150   \n",
       "Insurance               0.023644   0.001908 -0.001509  0.016980    0.009506   \n",
       "salary                 -0.006942  -0.010824 -0.010859  0.001513   -0.000490   \n",
       "FT/month               -0.016646   0.013604 -0.011888 -0.013268    0.015347   \n",
       "Infect_Prob             0.006887   0.066727  0.019354  0.021304   -0.003647   \n",
       "Region                 -0.030630   0.026013  0.026621 -0.008889   -0.041037   \n",
       "Gender                  0.017173  -0.008014  0.004472 -0.009175    0.008411   \n",
       "Married                 0.007822  -0.001198  0.013627 -0.009098   -0.001422   \n",
       "Occupation              0.005361  -0.002113  0.010236 -0.007385   -0.009455   \n",
       "Mode_transport         -0.006269  -0.006425 -0.002313 -0.005554   -0.006493   \n",
       "comorbidity             0.001504   0.000462 -0.000713 -0.003068    0.003090   \n",
       "Pulmonary score         0.000529   0.004033  0.001645  0.009247   -0.007395   \n",
       "cardiological pressure -0.001305   0.004692  0.003567 -0.002191    0.001797   \n",
       "\n",
       "                        HDL cholesterol  ...  FT/month  Infect_Prob  \\\n",
       "Children                      -0.006087  ...  0.004873     0.226795   \n",
       "Deaths/1M                      0.007679  ...  0.001679     0.174994   \n",
       "Age                           -0.003980  ...  0.015911    -0.331258   \n",
       "Coma score                     0.007181  ...  0.001476     0.038400   \n",
       "Diuresis                       0.011152  ... -0.016646     0.006887   \n",
       "Platelets                     -0.020922  ...  0.013604     0.066727   \n",
       "HBB                            0.004307  ... -0.011888     0.019354   \n",
       "d-dimer                       -0.002185  ... -0.013268     0.021304   \n",
       "Heart rate                    -0.011730  ...  0.015347    -0.003647   \n",
       "HDL cholesterol                1.000000  ...  0.014647     0.013240   \n",
       "Charlson Index                -0.004816  ... -0.006845    -0.011368   \n",
       "Blood Glucose                 -0.007721  ... -0.004286    -0.009654   \n",
       "Insurance                     -0.006328  ... -0.005670     0.009996   \n",
       "salary                         0.013661  ...  0.022641    -0.024621   \n",
       "FT/month                       0.014647  ...  1.000000    -0.001474   \n",
       "Infect_Prob                    0.013240  ... -0.001474     1.000000   \n",
       "Region                         0.026792  ...  0.010912    -0.106468   \n",
       "Gender                         0.018223  ...  0.001534    -0.000473   \n",
       "Married                        0.003520  ...  0.005093    -0.465114   \n",
       "Occupation                    -0.014161  ... -0.009733     0.022994   \n",
       "Mode_transport                 0.011459  ... -0.008300     0.004428   \n",
       "comorbidity                   -0.006978  ... -0.011405    -0.004503   \n",
       "Pulmonary score               -0.000755  ...  0.020809    -0.009889   \n",
       "cardiological pressure         0.009474  ... -0.013326     0.008197   \n",
       "\n",
       "                              Region    Gender   Married  Occupation  \\\n",
       "Children                7.961278e-02  0.008559 -0.079724   -0.031391   \n",
       "Deaths/1M              -6.500988e-01 -0.000102  0.009521   -0.011643   \n",
       "Age                     6.376006e-07 -0.005604  0.705147   -0.028907   \n",
       "Coma score              3.333097e-02  0.010999  0.001248   -0.006917   \n",
       "Diuresis               -3.063009e-02  0.017173  0.007822    0.005361   \n",
       "Platelets               2.601307e-02 -0.008014 -0.001198   -0.002113   \n",
       "HBB                     2.662110e-02  0.004472  0.013627    0.010236   \n",
       "d-dimer                -8.889460e-03 -0.009175 -0.009098   -0.007385   \n",
       "Heart rate             -4.103652e-02  0.008411 -0.001422   -0.009455   \n",
       "HDL cholesterol         2.679203e-02  0.018223  0.003520   -0.014161   \n",
       "Charlson Index         -9.402041e-03  0.014795  0.003239   -0.002387   \n",
       "Blood Glucose          -2.714962e-03  0.009935  0.002554   -0.008234   \n",
       "Insurance              -8.121936e-03  0.003870 -0.017307    0.009229   \n",
       "salary                 -1.731584e-02  0.012924  0.005002    0.000953   \n",
       "FT/month                1.091188e-02  0.001534  0.005093   -0.009733   \n",
       "Infect_Prob            -1.064677e-01 -0.000473 -0.465114    0.022994   \n",
       "Region                  1.000000e+00 -0.001200 -0.002971    0.006097   \n",
       "Gender                 -1.200169e-03  1.000000 -0.012987    0.006008   \n",
       "Married                -2.970585e-03 -0.012987  1.000000   -0.041656   \n",
       "Occupation              6.096607e-03  0.006008 -0.041656    1.000000   \n",
       "Mode_transport         -8.241562e-03  0.001736 -0.007127   -0.005395   \n",
       "comorbidity             1.816160e-02 -0.012530  0.010396    0.003691   \n",
       "Pulmonary score         5.533330e-03 -0.003699 -0.013401    0.006998   \n",
       "cardiological pressure  4.355965e-03  0.004300  0.010534   -0.008348   \n",
       "\n",
       "                        Mode_transport  comorbidity  Pulmonary score  \\\n",
       "Children                      0.008677     0.021162        -0.004288   \n",
       "Deaths/1M                    -0.003457    -0.001916        -0.020436   \n",
       "Age                          -0.008853     0.010581        -0.014287   \n",
       "Coma score                   -0.009496     0.003256        -0.008191   \n",
       "Diuresis                     -0.006269     0.001504         0.000529   \n",
       "Platelets                    -0.006425     0.000462         0.004033   \n",
       "HBB                          -0.002313    -0.000713         0.001645   \n",
       "d-dimer                      -0.005554    -0.003068         0.009247   \n",
       "Heart rate                   -0.006493     0.003090        -0.007395   \n",
       "HDL cholesterol               0.011459    -0.006978        -0.000755   \n",
       "Charlson Index               -0.000633     0.002167        -0.015221   \n",
       "Blood Glucose                 0.011842     0.006000        -0.006813   \n",
       "Insurance                     0.011923    -0.006110        -0.006661   \n",
       "salary                       -0.001707     0.003240         0.007428   \n",
       "FT/month                     -0.008300    -0.011405         0.020809   \n",
       "Infect_Prob                   0.004428    -0.004503        -0.009889   \n",
       "Region                       -0.008242     0.018162         0.005533   \n",
       "Gender                        0.001736    -0.012530        -0.003699   \n",
       "Married                      -0.007127     0.010396        -0.013401   \n",
       "Occupation                   -0.005395     0.003691         0.006998   \n",
       "Mode_transport                1.000000     0.005300         0.005467   \n",
       "comorbidity                   0.005300     1.000000        -0.004178   \n",
       "Pulmonary score               0.005467    -0.004178         1.000000   \n",
       "cardiological pressure        0.010564     0.006002        -0.794848   \n",
       "\n",
       "                        cardiological pressure  \n",
       "Children                              0.004610  \n",
       "Deaths/1M                             0.007570  \n",
       "Age                                   0.009135  \n",
       "Coma score                            0.000517  \n",
       "Diuresis                             -0.001305  \n",
       "Platelets                             0.004692  \n",
       "HBB                                   0.003567  \n",
       "d-dimer                              -0.002191  \n",
       "Heart rate                            0.001797  \n",
       "HDL cholesterol                       0.009474  \n",
       "Charlson Index                        0.012597  \n",
       "Blood Glucose                         0.015687  \n",
       "Insurance                             0.010885  \n",
       "salary                               -0.012501  \n",
       "FT/month                             -0.013326  \n",
       "Infect_Prob                           0.008197  \n",
       "Region                                0.004356  \n",
       "Gender                                0.004300  \n",
       "Married                               0.010534  \n",
       "Occupation                           -0.008348  \n",
       "Mode_transport                        0.010564  \n",
       "comorbidity                           0.006002  \n",
       "Pulmonary score                      -0.794848  \n",
       "cardiological pressure                1.000000  \n",
       "\n",
       "[24 rows x 24 columns]"
      ]
     },
     "execution_count": 177,
     "metadata": {},
     "output_type": "execute_result"
    }
   ],
   "source": [
    "data_con.corr()"
   ]
  },
  {
   "cell_type": "code",
   "execution_count": 244,
   "metadata": {},
   "outputs": [],
   "source": [
    "for i in range(0, 5):\n",
    "    for j in range(0, 2):\n",
    "            guess_df = data_con[(data_con['Region'] == i) & \\\n",
    "                                  (data_con['Married'] == j)]['Children'].dropna()\n",
    "\n",
    "\n",
    "            children_guess = guess_df.median()\n",
    "\n",
    "for i in range(0, 5):\n",
    "    for j in range(0, 2):    \n",
    "        data_con.loc[ (data_con.Children.isnull()) & (data_con.Region == i) & (data_con.Married == j),\\\n",
    "                    'Children'] = children_guess\n"
   ]
  },
  {
   "cell_type": "code",
   "execution_count": 245,
   "metadata": {},
   "outputs": [],
   "source": [
    "for i in range(0, 5):\n",
    "    for j in range(0, 2):\n",
    "            guess_d = data_con[(data_con['Region'] == i) & \\\n",
    "                                  (data_con['Gender'] == j)]['Diuresis'].dropna()\n",
    "\n",
    "\n",
    "            Diuresis_guess = guess_d.median()\n",
    "\n",
    "            \n",
    "            \n",
    "for i in range(0, 5):\n",
    "    for j in range(0, 2):\n",
    "            data_con.loc[ (data_con.Diuresis.isnull()) & (data_con.Region == i) & (data_con.Gender == j),\\\n",
    "                    'Diuresis'] = Diuresis_guess"
   ]
  },
  {
   "cell_type": "code",
   "execution_count": 221,
   "metadata": {},
   "outputs": [],
   "source": [
    "for i in range(0, 4):\n",
    "    for j in range(0, 4):\n",
    "            guess_di = data_con[(data_con['Pulmonary score'] == i) & \\\n",
    "                                  (data_con['cardiological pressure'] == j)]['FT/month'].dropna()\n",
    "\n",
    "\n",
    "            FTmonth_guess = guess_di.median()\n",
    "\n",
    "            \n",
    "            \n",
    "for i in range(0, 4):\n",
    "    for j in range(0, 4):\n",
    "            data_con.loc[ (data_con['FT/month'].isnull()) & (data_con['Pulmonary score'] == i) & (data_con['cardiological pressure'] == j),\\\n",
    "                    'FT/month'] = FTmonth_guess"
   ]
  },
  {
   "cell_type": "code",
   "execution_count": 222,
   "metadata": {},
   "outputs": [],
   "source": [
    "for i in range(0, 5):\n",
    "    for j in range(0, 2):\n",
    "            guess_ = data_con[(data_con['Region'] == i) & \\\n",
    "                                  (data_con['Gender'] == j)]['Platelets'].dropna()\n",
    "\n",
    "\n",
    "            Platelets_guess = guess_.median()\n",
    "\n",
    "            \n",
    "            \n",
    "for i in range(0, 5):\n",
    "    for j in range(0, 2):\n",
    "            data_con.loc[ (data_con.Platelets.isnull()) & (data_con.Region == i) & (data_con.Gender == j),\\\n",
    "                    'Platelets'] = Platelets_guess"
   ]
  },
  {
   "cell_type": "code",
   "execution_count": 246,
   "metadata": {},
   "outputs": [],
   "source": [
    "for i in range(0, 5):\n",
    "    for j in range(0, 2):\n",
    "            guess_d = data_con[(data_con['Region'] == i) & \\\n",
    "                                  (data_con['Gender'] == j)]['Heart rate'].dropna()\n",
    "\n",
    "\n",
    "            Heartrate_guess = guess_d.median()\n",
    "\n",
    "            \n",
    "            \n",
    "for i in range(0, 5):\n",
    "    for j in range(0, 2):\n",
    "            data_con.loc[ (data_con['Heart rate'].isnull()) & (data_con.Region == i) & (data_con.Gender == j),\\\n",
    "                    'Heart rate'] = Heartrate_guess"
   ]
  },
  {
   "cell_type": "code",
   "execution_count": 226,
   "metadata": {},
   "outputs": [],
   "source": [
    "for i in range(0, 3):\n",
    "    for j in range(0, 2):\n",
    "            guess_dh = data_con[(data_con['Mode_transport'] == i) & \\\n",
    "                                  (data_con['Married'] == j)]['Insurance'].dropna()\n",
    "\n",
    "\n",
    "            Insurance_guess = guess_dh.median()\n",
    "\n",
    "            \n",
    "            \n",
    "for i in range(0, 3):\n",
    "    for j in range(0, 2):\n",
    "            data_con.loc[ (data_con.Insurance.isnull()) & (data_con.Mode_transport == i) & (data_con.Married == j),\\\n",
    "                    'Insurance'] = Insurance_guess"
   ]
  },
  {
   "cell_type": "code",
   "execution_count": 227,
   "metadata": {},
   "outputs": [
    {
     "data": {
      "text/plain": [
       "Children                     0\n",
       "Deaths/1M                    0\n",
       "Age                          0\n",
       "Coma score                   0\n",
       "Diuresis                     0\n",
       "Platelets                    0\n",
       "HBB                          0\n",
       "d-dimer                   1114\n",
       "Heart rate                   0\n",
       "HDL cholesterol              0\n",
       "Charlson Index               0\n",
       "Blood Glucose                0\n",
       "Insurance                    0\n",
       "salary                       0\n",
       "FT/month                   723\n",
       "Infect_Prob                  0\n",
       "Region                       0\n",
       "Gender                       0\n",
       "Married                      0\n",
       "Occupation                   0\n",
       "Mode_transport               0\n",
       "comorbidity                  0\n",
       "Pulmonary score              0\n",
       "cardiological pressure       0\n",
       "dtype: int64"
      ]
     },
     "execution_count": 227,
     "metadata": {},
     "output_type": "execute_result"
    }
   ],
   "source": [
    "data_con.isnull().sum()"
   ]
  },
  {
   "cell_type": "code",
   "execution_count": 175,
   "metadata": {},
   "outputs": [
    {
     "data": {
      "text/plain": [
       "1.0"
      ]
     },
     "execution_count": 175,
     "metadata": {},
     "output_type": "execute_result"
    }
   ],
   "source": [
    "data_con['FT/month'].dropna().median()"
   ]
  },
  {
   "cell_type": "code",
   "execution_count": 247,
   "metadata": {},
   "outputs": [],
   "source": [
    "data_con['FT/month']= data_con['FT/month'].fillna(1.0)"
   ]
  },
  {
   "cell_type": "code",
   "execution_count": 181,
   "metadata": {},
   "outputs": [
    {
     "data": {
      "text/plain": [
       "1.0"
      ]
     },
     "execution_count": 181,
     "metadata": {},
     "output_type": "execute_result"
    }
   ],
   "source": [
    "data_con['Children'].dropna().median()"
   ]
  },
  {
   "cell_type": "code",
   "execution_count": 182,
   "metadata": {},
   "outputs": [
    {
     "data": {
      "text/plain": [
       "2600000.0"
      ]
     },
     "execution_count": 182,
     "metadata": {},
     "output_type": "execute_result"
    }
   ],
   "source": [
    "data_con['Insurance'].dropna().median()"
   ]
  },
  {
   "cell_type": "code",
   "execution_count": 183,
   "metadata": {},
   "outputs": [
    {
     "data": {
      "text/plain": [
       "75.0"
      ]
     },
     "execution_count": 183,
     "metadata": {},
     "output_type": "execute_result"
    }
   ],
   "source": [
    "data_con['Heart rate'].dropna().median()"
   ]
  },
  {
   "cell_type": "code",
   "execution_count": 184,
   "metadata": {},
   "outputs": [
    {
     "data": {
      "text/plain": [
       "276.0"
      ]
     },
     "execution_count": 184,
     "metadata": {},
     "output_type": "execute_result"
    }
   ],
   "source": [
    "data_con['d-dimer'].dropna().median()"
   ]
  },
  {
   "cell_type": "code",
   "execution_count": 185,
   "metadata": {},
   "outputs": [
    {
     "data": {
      "text/plain": [
       "276.0"
      ]
     },
     "execution_count": 185,
     "metadata": {},
     "output_type": "execute_result"
    }
   ],
   "source": [
    "data_con['Diuresis'].dropna().median()"
   ]
  },
  {
   "cell_type": "code",
   "execution_count": 186,
   "metadata": {},
   "outputs": [
    {
     "data": {
      "text/plain": [
       "88.0"
      ]
     },
     "execution_count": 186,
     "metadata": {},
     "output_type": "execute_result"
    }
   ],
   "source": [
    "data_con['Platelets'].dropna().median()"
   ]
  },
  {
   "cell_type": "code",
   "execution_count": 229,
   "metadata": {},
   "outputs": [],
   "source": [
    "data_con['d-dimer']= data_con['d-dimer'].fillna(276.0)"
   ]
  },
  {
   "cell_type": "code",
   "execution_count": null,
   "metadata": {},
   "outputs": [],
   "source": [
    "data_con['Heart rate']= data_con['Heart rate'].fillna(75.0)"
   ]
  },
  {
   "cell_type": "code",
   "execution_count": 248,
   "metadata": {},
   "outputs": [],
   "source": [
    "data_con['Insurance']= data_con['Insurance'].fillna(2600000.0)\n",
    "data_con['d-dimer']= data_con['d-dimer'].fillna(276.0)\n",
    "data_con['Platelets']= data_con['Platelets'].fillna(88.0)\n",
    "data_con['Diuresis']= data_con['Diuresis'].fillna(276.0)"
   ]
  },
  {
   "cell_type": "code",
   "execution_count": 190,
   "metadata": {},
   "outputs": [],
   "source": [
    "listcol=[]\n",
    "for i in data_cat.columns:\n",
    "    lis= i\n",
    "    listcol.append(lis)"
   ]
  },
  {
   "cell_type": "code",
   "execution_count": 191,
   "metadata": {},
   "outputs": [
    {
     "data": {
      "text/plain": [
       "['Region',\n",
       " 'Gender',\n",
       " 'Married',\n",
       " 'Occupation',\n",
       " 'Mode_transport',\n",
       " 'comorbidity',\n",
       " 'Pulmonary score',\n",
       " 'cardiological pressure']"
      ]
     },
     "execution_count": 191,
     "metadata": {},
     "output_type": "execute_result"
    }
   ],
   "source": [
    "listcol"
   ]
  },
  {
   "cell_type": "code",
   "execution_count": 192,
   "metadata": {},
   "outputs": [],
   "source": [
    "data_dis_up= data_con.drop(listcol,axis=1)"
   ]
  },
  {
   "cell_type": "code",
   "execution_count": 194,
   "metadata": {},
   "outputs": [
    {
     "data": {
      "text/html": [
       "<div>\n",
       "<style scoped>\n",
       "    .dataframe tbody tr th:only-of-type {\n",
       "        vertical-align: middle;\n",
       "    }\n",
       "\n",
       "    .dataframe tbody tr th {\n",
       "        vertical-align: top;\n",
       "    }\n",
       "\n",
       "    .dataframe thead th {\n",
       "        text-align: right;\n",
       "    }\n",
       "</style>\n",
       "<table border=\"1\" class=\"dataframe\">\n",
       "  <thead>\n",
       "    <tr style=\"text-align: right;\">\n",
       "      <th></th>\n",
       "      <th>Children</th>\n",
       "      <th>Deaths/1M</th>\n",
       "      <th>Age</th>\n",
       "      <th>Coma score</th>\n",
       "      <th>Diuresis</th>\n",
       "      <th>Platelets</th>\n",
       "      <th>HBB</th>\n",
       "      <th>d-dimer</th>\n",
       "      <th>Heart rate</th>\n",
       "      <th>HDL cholesterol</th>\n",
       "      <th>...</th>\n",
       "      <th>FT/month</th>\n",
       "      <th>Infect_Prob</th>\n",
       "      <th>Region</th>\n",
       "      <th>Gender</th>\n",
       "      <th>Married</th>\n",
       "      <th>Occupation</th>\n",
       "      <th>Mode_transport</th>\n",
       "      <th>comorbidity</th>\n",
       "      <th>Pulmonary score</th>\n",
       "      <th>cardiological pressure</th>\n",
       "    </tr>\n",
       "  </thead>\n",
       "  <tbody>\n",
       "    <tr>\n",
       "      <td>0</td>\n",
       "      <td>1.0</td>\n",
       "      <td>0</td>\n",
       "      <td>68</td>\n",
       "      <td>8</td>\n",
       "      <td>441.0</td>\n",
       "      <td>154.0</td>\n",
       "      <td>93.0</td>\n",
       "      <td>233.0</td>\n",
       "      <td>82.0</td>\n",
       "      <td>58.0</td>\n",
       "      <td>...</td>\n",
       "      <td>2.0</td>\n",
       "      <td>49.135010</td>\n",
       "      <td>1</td>\n",
       "      <td>0</td>\n",
       "      <td>1</td>\n",
       "      <td>4</td>\n",
       "      <td>1</td>\n",
       "      <td>2</td>\n",
       "      <td>3</td>\n",
       "      <td>1</td>\n",
       "    </tr>\n",
       "    <tr>\n",
       "      <td>1</td>\n",
       "      <td>2.0</td>\n",
       "      <td>0</td>\n",
       "      <td>64</td>\n",
       "      <td>15</td>\n",
       "      <td>276.0</td>\n",
       "      <td>121.0</td>\n",
       "      <td>56.0</td>\n",
       "      <td>328.0</td>\n",
       "      <td>89.0</td>\n",
       "      <td>68.0</td>\n",
       "      <td>...</td>\n",
       "      <td>1.0</td>\n",
       "      <td>51.147880</td>\n",
       "      <td>1</td>\n",
       "      <td>0</td>\n",
       "      <td>1</td>\n",
       "      <td>4</td>\n",
       "      <td>2</td>\n",
       "      <td>1</td>\n",
       "      <td>0</td>\n",
       "      <td>3</td>\n",
       "    </tr>\n",
       "    <tr>\n",
       "      <td>2</td>\n",
       "      <td>1.0</td>\n",
       "      <td>0</td>\n",
       "      <td>19</td>\n",
       "      <td>13</td>\n",
       "      <td>416.0</td>\n",
       "      <td>124.0</td>\n",
       "      <td>137.0</td>\n",
       "      <td>213.0</td>\n",
       "      <td>77.0</td>\n",
       "      <td>43.0</td>\n",
       "      <td>...</td>\n",
       "      <td>1.0</td>\n",
       "      <td>73.224000</td>\n",
       "      <td>1</td>\n",
       "      <td>0</td>\n",
       "      <td>0</td>\n",
       "      <td>1</td>\n",
       "      <td>1</td>\n",
       "      <td>3</td>\n",
       "      <td>2</td>\n",
       "      <td>0</td>\n",
       "    </tr>\n",
       "    <tr>\n",
       "      <td>3</td>\n",
       "      <td>1.0</td>\n",
       "      <td>0</td>\n",
       "      <td>33</td>\n",
       "      <td>9</td>\n",
       "      <td>410.0</td>\n",
       "      <td>98.0</td>\n",
       "      <td>167.0</td>\n",
       "      <td>275.0</td>\n",
       "      <td>64.0</td>\n",
       "      <td>60.0</td>\n",
       "      <td>...</td>\n",
       "      <td>1.0</td>\n",
       "      <td>48.779225</td>\n",
       "      <td>1</td>\n",
       "      <td>0</td>\n",
       "      <td>1</td>\n",
       "      <td>3</td>\n",
       "      <td>0</td>\n",
       "      <td>0</td>\n",
       "      <td>1</td>\n",
       "      <td>2</td>\n",
       "    </tr>\n",
       "    <tr>\n",
       "      <td>4</td>\n",
       "      <td>2.0</td>\n",
       "      <td>0</td>\n",
       "      <td>23</td>\n",
       "      <td>7</td>\n",
       "      <td>390.0</td>\n",
       "      <td>21.0</td>\n",
       "      <td>153.0</td>\n",
       "      <td>331.0</td>\n",
       "      <td>71.0</td>\n",
       "      <td>64.0</td>\n",
       "      <td>...</td>\n",
       "      <td>1.0</td>\n",
       "      <td>87.868800</td>\n",
       "      <td>1</td>\n",
       "      <td>0</td>\n",
       "      <td>0</td>\n",
       "      <td>6</td>\n",
       "      <td>0</td>\n",
       "      <td>1</td>\n",
       "      <td>3</td>\n",
       "      <td>1</td>\n",
       "    </tr>\n",
       "    <tr>\n",
       "      <td>...</td>\n",
       "      <td>...</td>\n",
       "      <td>...</td>\n",
       "      <td>...</td>\n",
       "      <td>...</td>\n",
       "      <td>...</td>\n",
       "      <td>...</td>\n",
       "      <td>...</td>\n",
       "      <td>...</td>\n",
       "      <td>...</td>\n",
       "      <td>...</td>\n",
       "      <td>...</td>\n",
       "      <td>...</td>\n",
       "      <td>...</td>\n",
       "      <td>...</td>\n",
       "      <td>...</td>\n",
       "      <td>...</td>\n",
       "      <td>...</td>\n",
       "      <td>...</td>\n",
       "      <td>...</td>\n",
       "      <td>...</td>\n",
       "      <td>...</td>\n",
       "    </tr>\n",
       "    <tr>\n",
       "      <td>10709</td>\n",
       "      <td>2.0</td>\n",
       "      <td>2</td>\n",
       "      <td>20</td>\n",
       "      <td>14</td>\n",
       "      <td>134.0</td>\n",
       "      <td>67.0</td>\n",
       "      <td>24.0</td>\n",
       "      <td>209.0</td>\n",
       "      <td>61.0</td>\n",
       "      <td>56.0</td>\n",
       "      <td>...</td>\n",
       "      <td>0.0</td>\n",
       "      <td>41.981760</td>\n",
       "      <td>0</td>\n",
       "      <td>1</td>\n",
       "      <td>0</td>\n",
       "      <td>0</td>\n",
       "      <td>0</td>\n",
       "      <td>1</td>\n",
       "      <td>3</td>\n",
       "      <td>1</td>\n",
       "    </tr>\n",
       "    <tr>\n",
       "      <td>10710</td>\n",
       "      <td>0.0</td>\n",
       "      <td>2</td>\n",
       "      <td>42</td>\n",
       "      <td>4</td>\n",
       "      <td>387.0</td>\n",
       "      <td>102.0</td>\n",
       "      <td>134.0</td>\n",
       "      <td>211.0</td>\n",
       "      <td>65.0</td>\n",
       "      <td>47.0</td>\n",
       "      <td>...</td>\n",
       "      <td>1.0</td>\n",
       "      <td>47.148663</td>\n",
       "      <td>0</td>\n",
       "      <td>1</td>\n",
       "      <td>1</td>\n",
       "      <td>6</td>\n",
       "      <td>0</td>\n",
       "      <td>3</td>\n",
       "      <td>3</td>\n",
       "      <td>1</td>\n",
       "    </tr>\n",
       "    <tr>\n",
       "      <td>10711</td>\n",
       "      <td>0.0</td>\n",
       "      <td>2</td>\n",
       "      <td>59</td>\n",
       "      <td>3</td>\n",
       "      <td>177.0</td>\n",
       "      <td>111.0</td>\n",
       "      <td>151.0</td>\n",
       "      <td>296.0</td>\n",
       "      <td>87.0</td>\n",
       "      <td>37.0</td>\n",
       "      <td>...</td>\n",
       "      <td>2.0</td>\n",
       "      <td>47.708533</td>\n",
       "      <td>0</td>\n",
       "      <td>1</td>\n",
       "      <td>1</td>\n",
       "      <td>2</td>\n",
       "      <td>1</td>\n",
       "      <td>1</td>\n",
       "      <td>0</td>\n",
       "      <td>3</td>\n",
       "    </tr>\n",
       "    <tr>\n",
       "      <td>10712</td>\n",
       "      <td>1.0</td>\n",
       "      <td>2</td>\n",
       "      <td>49</td>\n",
       "      <td>6</td>\n",
       "      <td>352.0</td>\n",
       "      <td>140.0</td>\n",
       "      <td>110.0</td>\n",
       "      <td>253.0</td>\n",
       "      <td>56.0</td>\n",
       "      <td>70.0</td>\n",
       "      <td>...</td>\n",
       "      <td>1.0</td>\n",
       "      <td>53.803565</td>\n",
       "      <td>0</td>\n",
       "      <td>1</td>\n",
       "      <td>1</td>\n",
       "      <td>5</td>\n",
       "      <td>2</td>\n",
       "      <td>0</td>\n",
       "      <td>2</td>\n",
       "      <td>0</td>\n",
       "    </tr>\n",
       "    <tr>\n",
       "      <td>10713</td>\n",
       "      <td>2.0</td>\n",
       "      <td>2</td>\n",
       "      <td>17</td>\n",
       "      <td>7</td>\n",
       "      <td>181.0</td>\n",
       "      <td>65.0</td>\n",
       "      <td>134.0</td>\n",
       "      <td>201.0</td>\n",
       "      <td>82.0</td>\n",
       "      <td>60.0</td>\n",
       "      <td>...</td>\n",
       "      <td>0.0</td>\n",
       "      <td>68.342400</td>\n",
       "      <td>0</td>\n",
       "      <td>1</td>\n",
       "      <td>0</td>\n",
       "      <td>0</td>\n",
       "      <td>0</td>\n",
       "      <td>1</td>\n",
       "      <td>3</td>\n",
       "      <td>1</td>\n",
       "    </tr>\n",
       "  </tbody>\n",
       "</table>\n",
       "<p>10714 rows × 24 columns</p>\n",
       "</div>"
      ],
      "text/plain": [
       "       Children  Deaths/1M  Age  Coma score  Diuresis  Platelets    HBB  \\\n",
       "0           1.0          0   68           8     441.0      154.0   93.0   \n",
       "1           2.0          0   64          15     276.0      121.0   56.0   \n",
       "2           1.0          0   19          13     416.0      124.0  137.0   \n",
       "3           1.0          0   33           9     410.0       98.0  167.0   \n",
       "4           2.0          0   23           7     390.0       21.0  153.0   \n",
       "...         ...        ...  ...         ...       ...        ...    ...   \n",
       "10709       2.0          2   20          14     134.0       67.0   24.0   \n",
       "10710       0.0          2   42           4     387.0      102.0  134.0   \n",
       "10711       0.0          2   59           3     177.0      111.0  151.0   \n",
       "10712       1.0          2   49           6     352.0      140.0  110.0   \n",
       "10713       2.0          2   17           7     181.0       65.0  134.0   \n",
       "\n",
       "       d-dimer  Heart rate  HDL cholesterol  ...  FT/month  Infect_Prob  \\\n",
       "0        233.0        82.0             58.0  ...       2.0    49.135010   \n",
       "1        328.0        89.0             68.0  ...       1.0    51.147880   \n",
       "2        213.0        77.0             43.0  ...       1.0    73.224000   \n",
       "3        275.0        64.0             60.0  ...       1.0    48.779225   \n",
       "4        331.0        71.0             64.0  ...       1.0    87.868800   \n",
       "...        ...         ...              ...  ...       ...          ...   \n",
       "10709    209.0        61.0             56.0  ...       0.0    41.981760   \n",
       "10710    211.0        65.0             47.0  ...       1.0    47.148663   \n",
       "10711    296.0        87.0             37.0  ...       2.0    47.708533   \n",
       "10712    253.0        56.0             70.0  ...       1.0    53.803565   \n",
       "10713    201.0        82.0             60.0  ...       0.0    68.342400   \n",
       "\n",
       "       Region  Gender  Married  Occupation  Mode_transport  comorbidity  \\\n",
       "0           1       0        1           4               1            2   \n",
       "1           1       0        1           4               2            1   \n",
       "2           1       0        0           1               1            3   \n",
       "3           1       0        1           3               0            0   \n",
       "4           1       0        0           6               0            1   \n",
       "...       ...     ...      ...         ...             ...          ...   \n",
       "10709       0       1        0           0               0            1   \n",
       "10710       0       1        1           6               0            3   \n",
       "10711       0       1        1           2               1            1   \n",
       "10712       0       1        1           5               2            0   \n",
       "10713       0       1        0           0               0            1   \n",
       "\n",
       "       Pulmonary score  cardiological pressure  \n",
       "0                    3                       1  \n",
       "1                    0                       3  \n",
       "2                    2                       0  \n",
       "3                    1                       2  \n",
       "4                    3                       1  \n",
       "...                ...                     ...  \n",
       "10709                3                       1  \n",
       "10710                3                       1  \n",
       "10711                0                       3  \n",
       "10712                2                       0  \n",
       "10713                3                       1  \n",
       "\n",
       "[10714 rows x 24 columns]"
      ]
     },
     "execution_count": 194,
     "metadata": {},
     "output_type": "execute_result"
    }
   ],
   "source": [
    "data_con"
   ]
  },
  {
   "cell_type": "code",
   "execution_count": 271,
   "metadata": {},
   "outputs": [],
   "source": [
    "#1st attempt\n",
    "y= data_con1.Infect_Prob\n",
    "x= data_con1.drop('Infect_Prob',axis=1)"
   ]
  },
  {
   "cell_type": "code",
   "execution_count": 272,
   "metadata": {},
   "outputs": [],
   "source": [
    "train_x,valid_x,train_y,valid_y= train_test_split(x,y,train_size=0.8,random_state=10)"
   ]
  },
  {
   "cell_type": "code",
   "execution_count": 273,
   "metadata": {},
   "outputs": [],
   "source": [
    "from sklearn.linear_model import LinearRegression\n",
    "linear_regression= LinearRegression()"
   ]
  },
  {
   "cell_type": "code",
   "execution_count": 274,
   "metadata": {},
   "outputs": [
    {
     "name": "stdout",
     "output_type": "stream",
     "text": [
      "4.665221438993293\n"
     ]
    }
   ],
   "source": [
    "linear_regression.fit(train_x,train_y)\n",
    "pred= linear_regression.predict(valid_x)\n",
    "mae=mean_absolute_error(pred,valid_y)\n",
    "print(mae)"
   ]
  },
  {
   "cell_type": "code",
   "execution_count": 254,
   "metadata": {},
   "outputs": [
    {
     "name": "stdout",
     "output_type": "stream",
     "text": [
      "Deaths/1M\n",
      "Infect_Prob\n",
      "Married\n"
     ]
    }
   ],
   "source": [
    "#2nd attempt\n",
    "for i in data_con.columns:\n",
    "    if (np.absolute(data_con[i].skew())>1):\n",
    "        print(i)"
   ]
  },
  {
   "cell_type": "code",
   "execution_count": 255,
   "metadata": {},
   "outputs": [
    {
     "name": "stderr",
     "output_type": "stream",
     "text": [
      "D:\\Python\\lib\\site-packages\\pandas\\core\\series.py:853: RuntimeWarning: divide by zero encountered in log\n",
      "  result = getattr(ufunc, method)(*inputs, **kwargs)\n"
     ]
    }
   ],
   "source": [
    "data_con['Deaths/1M']= np.log(data_con['Deaths/1M'])\n",
    "data_con['Infect_Prob']= np.log(data_con['Infect_Prob'])\n",
    "data_con['Married']= np.log(data_con['Married'])"
   ]
  },
  {
   "cell_type": "code",
   "execution_count": 259,
   "metadata": {},
   "outputs": [],
   "source": [
    "data_con['Deaths/1M']= data_dis['Deaths/1M']\n",
    "data_con['Infect_Prob']= data_dis['Infect_Prob']\n",
    "data_con['Married']= data_cat['Married']"
   ]
  },
  {
   "cell_type": "code",
   "execution_count": 261,
   "metadata": {},
   "outputs": [
    {
     "data": {
      "text/plain": [
       "<matplotlib.axes._subplots.AxesSubplot at 0x22cb5f2bfc8>"
      ]
     },
     "execution_count": 261,
     "metadata": {},
     "output_type": "execute_result"
    },
    {
     "data": {
      "image/png": "[encoded data removed]",
      "text/plain": [
       "<Figure size 432x288 with 1 Axes>"
      ]
     },
     "metadata": {
      "needs_background": "light"
     },
     "output_type": "display_data"
    }
   ],
   "source": [
    "sns.distplot(data_con['Infect_Prob'])"
   ]
  },
  {
   "cell_type": "code",
   "execution_count": 262,
   "metadata": {},
   "outputs": [
    {
     "data": {
      "text/plain": [
       "<matplotlib.axes._subplots.AxesSubplot at 0x22cb48a5948>"
      ]
     },
     "execution_count": 262,
     "metadata": {},
     "output_type": "execute_result"
    },
    {
     "data": {
      "image/png": "[encoded data removed]",
      "text/plain": [
       "<Figure size 432x288 with 1 Axes>"
      ]
     },
     "metadata": {
      "needs_background": "light"
     },
     "output_type": "display_data"
    }
   ],
   "source": [
    "sns.distplot(data_con['Married'])"
   ]
  },
  {
   "cell_type": "code",
   "execution_count": 263,
   "metadata": {},
   "outputs": [
    {
     "data": {
      "text/plain": [
       "<matplotlib.axes._subplots.AxesSubplot at 0x22cb48a57c8>"
      ]
     },
     "execution_count": 263,
     "metadata": {},
     "output_type": "execute_result"
    },
    {
     "data": {
      "image/png": "[encoded data removed]",
      "text/plain": [
       "<Figure size 432x288 with 1 Axes>"
      ]
     },
     "metadata": {
      "needs_background": "light"
     },
     "output_type": "display_data"
    }
   ],
   "source": [
    "sns.distplot(data_con['Deaths/1M'])"
   ]
  },
  {
   "cell_type": "code",
   "execution_count": 264,
   "metadata": {},
   "outputs": [],
   "source": [
    "data_con['Infect_Prob']= np.log(data_con['Infect_Prob'])"
   ]
  },
  {
   "cell_type": "code",
   "execution_count": 275,
   "metadata": {},
   "outputs": [],
   "source": [
    "y2= data_con.Infect_Prob\n",
    "x2= data_con.drop('Infect_Prob',axis=1)"
   ]
  },
  {
   "cell_type": "code",
   "execution_count": 276,
   "metadata": {},
   "outputs": [],
   "source": [
    "train_x2,valid_x2,train_y2,valid_y2= train_test_split(x2,y2,train_size=0.8,random_state=10)"
   ]
  },
  {
   "cell_type": "code",
   "execution_count": 277,
   "metadata": {},
   "outputs": [
    {
     "name": "stdout",
     "output_type": "stream",
     "text": [
      "0.08058856195565532\n"
     ]
    }
   ],
   "source": [
    "linear_regression2= LinearRegression()\n",
    "linear_regression2.fit(train_x2,train_y2)\n",
    "pred2= linear_regression2.predict(valid_x2)\n",
    "mae2=mean_absolute_error(pred2,valid_y2)\n",
    "print(mae2)"
   ]
  },
  {
   "cell_type": "code",
   "execution_count": 269,
   "metadata": {},
   "outputs": [],
   "source": [
    "data_con1= data_con.copy()"
   ]
  },
  {
   "cell_type": "code",
   "execution_count": 270,
   "metadata": {},
   "outputs": [],
   "source": [
    "data_con1['Infect_Prob']= data_dis['Infect_Prob']"
   ]
  },
  {
   "cell_type": "code",
   "execution_count": 278,
   "metadata": {},
   "outputs": [],
   "source": [
    "from sklearn.tree import DecisionTreeRegressor\n",
    "from sklearn.neighbors import KNeighborsRegressor"
   ]
  },
  {
   "cell_type": "code",
   "execution_count": 279,
   "metadata": {},
   "outputs": [],
   "source": [
    "dtr= DecisionTreeRegressor()\n",
    "knr= KNeighborsRegressor(n_neighbors=3)"
   ]
  },
  {
   "cell_type": "code",
   "execution_count": 280,
   "metadata": {},
   "outputs": [
    {
     "data": {
      "text/plain": [
       "KNeighborsRegressor(algorithm='auto', leaf_size=30, metric='minkowski',\n",
       "                    metric_params=None, n_jobs=None, n_neighbors=3, p=2,\n",
       "                    weights='uniform')"
      ]
     },
     "execution_count": 280,
     "metadata": {},
     "output_type": "execute_result"
    }
   ],
   "source": [
    "dtr.fit(train_x2,train_y2)\n",
    "knr.fit(train_x2,train_y2)"
   ]
  },
  {
   "cell_type": "code",
   "execution_count": 282,
   "metadata": {},
   "outputs": [
    {
     "name": "stdout",
     "output_type": "stream",
     "text": [
      "0.08321426793280806\n",
      "0.13615107239557186\n"
     ]
    }
   ],
   "source": [
    "pr1=dtr.predict(valid_x2)\n",
    "pr2=knr.predict(valid_x2)\n",
    "me1= mean_absolute_error(pr1,valid_y2)\n",
    "print(me1)\n",
    "me2= mean_absolute_error(pr2,valid_y2)\n",
    "print(me2)"
   ]
  },
  {
   "cell_type": "code",
   "execution_count": 283,
   "metadata": {},
   "outputs": [
    {
     "name": "stdout",
     "output_type": "stream",
     "text": [
      "4.804959334029398\n"
     ]
    }
   ],
   "source": [
    "dtr0= DecisionTreeRegressor()\n",
    "dtr0.fit(train_x,train_y)\n",
    "pr0=dtr0.predict(valid_x)\n",
    "me0= mean_absolute_error(pr0,valid_y)\n",
    "print(me0)"
   ]
  },
  {
   "cell_type": "code",
   "execution_count": 301,
   "metadata": {},
   "outputs": [
    {
     "data": {
      "text/plain": [
       "<matplotlib.collections.PathCollection at 0x22cbe8de7c8>"
      ]
     },
     "execution_count": 301,
     "metadata": {},
     "output_type": "execute_result"
    },
    {
     "data": {
      "image/png": "[encoded data removed]",
      "text/plain": [
       "<Figure size 432x288 with 1 Axes>"
      ]
     },
     "metadata": {
      "needs_background": "light"
     },
     "output_type": "display_data"
    }
   ],
   "source": [
    "#3rd attempt\n",
    "plt.scatter(data_con1['Age'][3000:3100],data_con1['Infect_Prob'][3000:3100])"
   ]
  },
  {
   "cell_type": "code",
   "execution_count": 302,
   "metadata": {},
   "outputs": [],
   "source": [
    "import os\n",
    "\n",
    "mingw_path = 'C:\\\\Program Files\\\\mingw-w64\\\\x86_64-5.3.0-posix-seh-rt_v4-rev0\\\\mingw64\\\\bin'\n",
    "\n",
    "os.environ['PATH'] = mingw_path + ';' + os.environ['PATH']"
   ]
  },
  {
   "cell_type": "code",
   "execution_count": 303,
   "metadata": {},
   "outputs": [],
   "source": [
    "from xgboost import XGBRegressor"
   ]
  },
  {
   "cell_type": "code",
   "execution_count": 309,
   "metadata": {},
   "outputs": [],
   "source": [
    "xg= XGBRegressor(n_estimators=500,learning_rate=0.1)"
   ]
  },
  {
   "cell_type": "code",
   "execution_count": 310,
   "metadata": {},
   "outputs": [
    {
     "name": "stdout",
     "output_type": "stream",
     "text": [
      "0.07032013249107841\n"
     ]
    }
   ],
   "source": [
    "xg.fit(train_x2,train_y2)\n",
    "pr4=xg.predict(valid_x2)\n",
    "me4= mean_absolute_error(pr4,valid_y2)\n",
    "print(me4)"
   ]
  },
  {
   "cell_type": "code",
   "execution_count": 319,
   "metadata": {},
   "outputs": [
    {
     "data": {
      "text/plain": [
       "XGBRegressor(base_score=0.5, booster='gbtree', colsample_bylevel=1,\n",
       "             colsample_bynode=1, colsample_bytree=1, gamma=0,\n",
       "             importance_type='gain', learning_rate=0.1, max_delta_step=0,\n",
       "             max_depth=3, min_child_weight=1, missing=None, n_estimators=500,\n",
       "             n_jobs=1, num_parallel_tree=1, objective='reg:squarederror',\n",
       "             random_state=0, reg_alpha=0, reg_lambda=1, scale_pos_weight=1,\n",
       "             subsample=1, tree_method='auto', verbosity=1)"
      ]
     },
     "execution_count": 319,
     "metadata": {},
     "output_type": "execute_result"
    }
   ],
   "source": [
    "XGB_model= XGBRegressor(n_estimators=500,learning_rate=0.1)\n",
    "XGB_model.fit(x2,y2)"
   ]
  },
  {
   "cell_type": "code",
   "execution_count": 318,
   "metadata": {},
   "outputs": [],
   "source": [
    "x_test= pd.concat([data_test_dis,data_test_cat],axis=1)"
   ]
  },
  {
   "cell_type": "code",
   "execution_count": 320,
   "metadata": {},
   "outputs": [],
   "source": [
    "pred_y= XGB_model.predict(x_test)"
   ]
  },
  {
   "cell_type": "code",
   "execution_count": 322,
   "metadata": {},
   "outputs": [],
   "source": [
    "sub=pd.DataFrame({\n",
    "        \"people_ID\": data_test[\"people_ID\"],\n",
    "        \"Infect_Prob\": pred_y})"
   ]
  },
  {
   "cell_type": "code",
   "execution_count": 323,
   "metadata": {},
   "outputs": [],
   "source": [
    "sub.to_csv('D:/Downloads/sub_20th.csv',index=False)"
   ]
  },
  {
   "cell_type": "code",
   "execution_count": 324,
   "metadata": {},
   "outputs": [],
   "source": [
    "linear_regression3= LinearRegression()\n",
    "linear_regression3.fit(train_x2,train_y2)\n",
    "pred5= linear_regression3.predict(valid_x2)"
   ]
  },
  {
   "cell_type": "code",
   "execution_count": 325,
   "metadata": {},
   "outputs": [],
   "source": [
    "pred5_t= np.exp(pred5)\n",
    "valid_y2_t= np.exp(valid_y2)"
   ]
  },
  {
   "cell_type": "code",
   "execution_count": 326,
   "metadata": {},
   "outputs": [
    {
     "name": "stdout",
     "output_type": "stream",
     "text": [
      "4.605406008197006\n"
     ]
    }
   ],
   "source": [
    "mae5=mean_absolute_error(pred5_t,valid_y2_t)\n",
    "print(mae5)"
   ]
  },
  {
   "cell_type": "code",
   "execution_count": 328,
   "metadata": {},
   "outputs": [
    {
     "data": {
      "text/plain": [
       "0        49.135010\n",
       "1        51.147880\n",
       "2        73.224000\n",
       "3        48.779225\n",
       "4        87.868800\n",
       "           ...    \n",
       "10709    41.981760\n",
       "10710    47.148663\n",
       "10711    47.708533\n",
       "10712    53.803565\n",
       "10713    68.342400\n",
       "Name: Infect_Prob, Length: 10714, dtype: float64"
      ]
     },
     "execution_count": 328,
     "metadata": {},
     "output_type": "execute_result"
    }
   ],
   "source": [
    "data_con1['Infect_Prob']"
   ]
  },
  {
   "cell_type": "code",
   "execution_count": 329,
   "metadata": {},
   "outputs": [],
   "source": [
    "xg2= XGBRegressor(n_estimators=500,learning_rate=0.1)\n",
    "xg2.fit(train_x2,train_y2)\n",
    "pr6=xg2.predict(valid_x2)"
   ]
  },
  {
   "cell_type": "code",
   "execution_count": 330,
   "metadata": {},
   "outputs": [],
   "source": [
    "pr6_t= np.exp(pr6)"
   ]
  },
  {
   "cell_type": "code",
   "execution_count": 331,
   "metadata": {},
   "outputs": [
    {
     "name": "stdout",
     "output_type": "stream",
     "text": [
      "4.055512982712281\n"
     ]
    }
   ],
   "source": [
    "mae6=mean_absolute_error(pr6_t,valid_y2_t)\n",
    "print(mae6)"
   ]
  },
  {
   "cell_type": "code",
   "execution_count": 332,
   "metadata": {},
   "outputs": [
    {
     "data": {
      "text/plain": [
       "XGBRegressor(base_score=0.5, booster='gbtree', colsample_bylevel=1,\n",
       "             colsample_bynode=1, colsample_bytree=1, gamma=0,\n",
       "             importance_type='gain', learning_rate=0.1, max_delta_step=0,\n",
       "             max_depth=3, min_child_weight=1, missing=None, n_estimators=500,\n",
       "             n_jobs=1, num_parallel_tree=1, objective='reg:squarederror',\n",
       "             random_state=0, reg_alpha=0, reg_lambda=1, scale_pos_weight=1,\n",
       "             subsample=1, tree_method='auto', verbosity=1)"
      ]
     },
     "execution_count": 332,
     "metadata": {},
     "output_type": "execute_result"
    }
   ],
   "source": [
    "XGB_model2= XGBRegressor(n_estimators=500,learning_rate=0.1)\n",
    "XGB_model2.fit(x2,y2)"
   ]
  },
  {
   "cell_type": "code",
   "execution_count": 333,
   "metadata": {},
   "outputs": [],
   "source": [
    "pred_y2= XGB_model2.predict(x_test)"
   ]
  },
  {
   "cell_type": "code",
   "execution_count": 334,
   "metadata": {},
   "outputs": [],
   "source": [
    "pred_y2t= np.exp(pred_y2)"
   ]
  },
  {
   "cell_type": "code",
   "execution_count": 335,
   "metadata": {},
   "outputs": [],
   "source": [
    "infect_prob= pd.DataFrame({\n",
    "        \"people_ID\": data_test[\"people_ID\"],\n",
    "        \"Infect_Prob\": pred_y2t})"
   ]
  },
  {
   "cell_type": "code",
   "execution_count": 336,
   "metadata": {},
   "outputs": [],
   "source": [
    "infect_prob.to_csv('D:/Downloads/infect_prob_20th.csv',index=False)"
   ]
  },
  {
   "cell_type": "code",
   "execution_count": 338,
   "metadata": {},
   "outputs": [],
   "source": [
    "diuresis= pd.read_csv('D:/Downloads/diruesis.csv')"
   ]
  },
  {
   "cell_type": "code",
   "execution_count": 353,
   "metadata": {},
   "outputs": [],
   "source": [
    "diuresis_27= pd.read_csv('D:/Downloads/Diruesis27.csv')"
   ]
  },
  {
   "cell_type": "code",
   "execution_count": 342,
   "metadata": {},
   "outputs": [
    {
     "data": {
      "text/plain": [
       "array([1783.79788254])"
      ]
     },
     "execution_count": 342,
     "metadata": {},
     "output_type": "execute_result"
    }
   ],
   "source": [
    "diuresis_27th= np.asarray(diuresis_27)\n",
    "diuresis_27th[1]"
   ]
  },
  {
   "cell_type": "code",
   "execution_count": 355,
   "metadata": {},
   "outputs": [
    {
     "data": {
      "text/plain": [
       "1919.0001670399995"
      ]
     },
     "execution_count": 355,
     "metadata": {},
     "output_type": "execute_result"
    }
   ],
   "source": [
    "diuresis_27['Diuresis'][2]"
   ]
  },
  {
   "cell_type": "code",
   "execution_count": 359,
   "metadata": {},
   "outputs": [
    {
     "data": {
      "text/plain": [
       "1919"
      ]
     },
     "execution_count": 359,
     "metadata": {},
     "output_type": "execute_result"
    }
   ],
   "source": [
    "x_test['Diuresis'][2]"
   ]
  },
  {
   "cell_type": "code",
   "execution_count": 362,
   "metadata": {},
   "outputs": [
    {
     "name": "stderr",
     "output_type": "stream",
     "text": [
      "D:\\Python\\lib\\site-packages\\ipykernel_launcher.py:2: SettingWithCopyWarning: \n",
      "A value is trying to be set on a copy of a slice from a DataFrame\n",
      "\n",
      "See the caveats in the documentation: http://pandas.pydata.org/pandas-docs/stable/user_guide/indexing.html#returning-a-view-versus-a-copy\n",
      "  \n"
     ]
    }
   ],
   "source": [
    "for i in range(14498):\n",
    "    x_test['Diuresis'][i]= diuresis_27['Diuresis'][i]"
   ]
  },
  {
   "cell_type": "code",
   "execution_count": 392,
   "metadata": {},
   "outputs": [
    {
     "data": {
      "text/plain": [
       "0        1692\n",
       "1        1783\n",
       "2        1919\n",
       "3         898\n",
       "4         998\n",
       "         ... \n",
       "14493    1818\n",
       "14494     867\n",
       "14495     702\n",
       "14496     758\n",
       "14497     549\n",
       "Name: Diuresis, Length: 14498, dtype: int64"
      ]
     },
     "execution_count": 392,
     "metadata": {},
     "output_type": "execute_result"
    }
   ],
   "source": [
    "x_test['Diuresis']"
   ]
  },
  {
   "cell_type": "code",
   "execution_count": 393,
   "metadata": {},
   "outputs": [
    {
     "data": {
      "text/html": [
       "<div>\n",
       "<style scoped>\n",
       "    .dataframe tbody tr th:only-of-type {\n",
       "        vertical-align: middle;\n",
       "    }\n",
       "\n",
       "    .dataframe tbody tr th {\n",
       "        vertical-align: top;\n",
       "    }\n",
       "\n",
       "    .dataframe thead th {\n",
       "        text-align: right;\n",
       "    }\n",
       "</style>\n",
       "<table border=\"1\" class=\"dataframe\">\n",
       "  <thead>\n",
       "    <tr style=\"text-align: right;\">\n",
       "      <th></th>\n",
       "      <th>Children</th>\n",
       "      <th>Deaths/1M</th>\n",
       "      <th>Age</th>\n",
       "      <th>Coma score</th>\n",
       "      <th>Diuresis</th>\n",
       "      <th>Platelets</th>\n",
       "      <th>HBB</th>\n",
       "      <th>d-dimer</th>\n",
       "      <th>Heart rate</th>\n",
       "      <th>HDL cholesterol</th>\n",
       "      <th>...</th>\n",
       "      <th>salary</th>\n",
       "      <th>FT/month</th>\n",
       "      <th>Region</th>\n",
       "      <th>Gender</th>\n",
       "      <th>Married</th>\n",
       "      <th>Occupation</th>\n",
       "      <th>Mode_transport</th>\n",
       "      <th>comorbidity</th>\n",
       "      <th>Pulmonary score</th>\n",
       "      <th>cardiological pressure</th>\n",
       "    </tr>\n",
       "  </thead>\n",
       "  <tbody>\n",
       "    <tr>\n",
       "      <td>0</td>\n",
       "      <td>2</td>\n",
       "      <td>1</td>\n",
       "      <td>52</td>\n",
       "      <td>3</td>\n",
       "      <td>1692</td>\n",
       "      <td>153</td>\n",
       "      <td>196</td>\n",
       "      <td>240</td>\n",
       "      <td>85</td>\n",
       "      <td>53</td>\n",
       "      <td>...</td>\n",
       "      <td>1300000</td>\n",
       "      <td>1</td>\n",
       "      <td>0</td>\n",
       "      <td>0</td>\n",
       "      <td>1</td>\n",
       "      <td>3</td>\n",
       "      <td>1</td>\n",
       "      <td>1</td>\n",
       "      <td>1</td>\n",
       "      <td>2</td>\n",
       "    </tr>\n",
       "    <tr>\n",
       "      <td>1</td>\n",
       "      <td>2</td>\n",
       "      <td>1</td>\n",
       "      <td>53</td>\n",
       "      <td>11</td>\n",
       "      <td>1783</td>\n",
       "      <td>95</td>\n",
       "      <td>138</td>\n",
       "      <td>241</td>\n",
       "      <td>81</td>\n",
       "      <td>61</td>\n",
       "      <td>...</td>\n",
       "      <td>1300000</td>\n",
       "      <td>1</td>\n",
       "      <td>0</td>\n",
       "      <td>1</td>\n",
       "      <td>1</td>\n",
       "      <td>5</td>\n",
       "      <td>2</td>\n",
       "      <td>1</td>\n",
       "      <td>1</td>\n",
       "      <td>2</td>\n",
       "    </tr>\n",
       "    <tr>\n",
       "      <td>2</td>\n",
       "      <td>2</td>\n",
       "      <td>1</td>\n",
       "      <td>35</td>\n",
       "      <td>9</td>\n",
       "      <td>1919</td>\n",
       "      <td>40</td>\n",
       "      <td>166</td>\n",
       "      <td>236</td>\n",
       "      <td>88</td>\n",
       "      <td>47</td>\n",
       "      <td>...</td>\n",
       "      <td>2000000</td>\n",
       "      <td>2</td>\n",
       "      <td>0</td>\n",
       "      <td>0</td>\n",
       "      <td>1</td>\n",
       "      <td>8</td>\n",
       "      <td>0</td>\n",
       "      <td>1</td>\n",
       "      <td>0</td>\n",
       "      <td>3</td>\n",
       "    </tr>\n",
       "    <tr>\n",
       "      <td>3</td>\n",
       "      <td>2</td>\n",
       "      <td>1</td>\n",
       "      <td>31</td>\n",
       "      <td>12</td>\n",
       "      <td>898</td>\n",
       "      <td>78</td>\n",
       "      <td>83</td>\n",
       "      <td>211</td>\n",
       "      <td>87</td>\n",
       "      <td>52</td>\n",
       "      <td>...</td>\n",
       "      <td>600000</td>\n",
       "      <td>2</td>\n",
       "      <td>0</td>\n",
       "      <td>0</td>\n",
       "      <td>1</td>\n",
       "      <td>8</td>\n",
       "      <td>0</td>\n",
       "      <td>3</td>\n",
       "      <td>2</td>\n",
       "      <td>0</td>\n",
       "    </tr>\n",
       "    <tr>\n",
       "      <td>4</td>\n",
       "      <td>2</td>\n",
       "      <td>1</td>\n",
       "      <td>51</td>\n",
       "      <td>6</td>\n",
       "      <td>998</td>\n",
       "      <td>109</td>\n",
       "      <td>207</td>\n",
       "      <td>312</td>\n",
       "      <td>94</td>\n",
       "      <td>68</td>\n",
       "      <td>...</td>\n",
       "      <td>1500000</td>\n",
       "      <td>1</td>\n",
       "      <td>0</td>\n",
       "      <td>0</td>\n",
       "      <td>1</td>\n",
       "      <td>0</td>\n",
       "      <td>0</td>\n",
       "      <td>1</td>\n",
       "      <td>1</td>\n",
       "      <td>2</td>\n",
       "    </tr>\n",
       "    <tr>\n",
       "      <td>...</td>\n",
       "      <td>...</td>\n",
       "      <td>...</td>\n",
       "      <td>...</td>\n",
       "      <td>...</td>\n",
       "      <td>...</td>\n",
       "      <td>...</td>\n",
       "      <td>...</td>\n",
       "      <td>...</td>\n",
       "      <td>...</td>\n",
       "      <td>...</td>\n",
       "      <td>...</td>\n",
       "      <td>...</td>\n",
       "      <td>...</td>\n",
       "      <td>...</td>\n",
       "      <td>...</td>\n",
       "      <td>...</td>\n",
       "      <td>...</td>\n",
       "      <td>...</td>\n",
       "      <td>...</td>\n",
       "      <td>...</td>\n",
       "      <td>...</td>\n",
       "    </tr>\n",
       "    <tr>\n",
       "      <td>14493</td>\n",
       "      <td>0</td>\n",
       "      <td>2</td>\n",
       "      <td>55</td>\n",
       "      <td>5</td>\n",
       "      <td>1818</td>\n",
       "      <td>16</td>\n",
       "      <td>36</td>\n",
       "      <td>346</td>\n",
       "      <td>66</td>\n",
       "      <td>45</td>\n",
       "      <td>...</td>\n",
       "      <td>800000</td>\n",
       "      <td>2</td>\n",
       "      <td>5</td>\n",
       "      <td>1</td>\n",
       "      <td>1</td>\n",
       "      <td>1</td>\n",
       "      <td>2</td>\n",
       "      <td>0</td>\n",
       "      <td>3</td>\n",
       "      <td>1</td>\n",
       "    </tr>\n",
       "    <tr>\n",
       "      <td>14494</td>\n",
       "      <td>0</td>\n",
       "      <td>2</td>\n",
       "      <td>44</td>\n",
       "      <td>4</td>\n",
       "      <td>867</td>\n",
       "      <td>22</td>\n",
       "      <td>29</td>\n",
       "      <td>278</td>\n",
       "      <td>94</td>\n",
       "      <td>37</td>\n",
       "      <td>...</td>\n",
       "      <td>1800000</td>\n",
       "      <td>2</td>\n",
       "      <td>5</td>\n",
       "      <td>0</td>\n",
       "      <td>1</td>\n",
       "      <td>2</td>\n",
       "      <td>0</td>\n",
       "      <td>3</td>\n",
       "      <td>2</td>\n",
       "      <td>0</td>\n",
       "    </tr>\n",
       "    <tr>\n",
       "      <td>14495</td>\n",
       "      <td>0</td>\n",
       "      <td>2</td>\n",
       "      <td>46</td>\n",
       "      <td>6</td>\n",
       "      <td>702</td>\n",
       "      <td>15</td>\n",
       "      <td>28</td>\n",
       "      <td>294</td>\n",
       "      <td>73</td>\n",
       "      <td>56</td>\n",
       "      <td>...</td>\n",
       "      <td>800000</td>\n",
       "      <td>1</td>\n",
       "      <td>5</td>\n",
       "      <td>1</td>\n",
       "      <td>1</td>\n",
       "      <td>0</td>\n",
       "      <td>1</td>\n",
       "      <td>3</td>\n",
       "      <td>2</td>\n",
       "      <td>0</td>\n",
       "    </tr>\n",
       "    <tr>\n",
       "      <td>14496</td>\n",
       "      <td>0</td>\n",
       "      <td>2</td>\n",
       "      <td>34</td>\n",
       "      <td>5</td>\n",
       "      <td>758</td>\n",
       "      <td>31</td>\n",
       "      <td>24</td>\n",
       "      <td>227</td>\n",
       "      <td>83</td>\n",
       "      <td>60</td>\n",
       "      <td>...</td>\n",
       "      <td>1800000</td>\n",
       "      <td>2</td>\n",
       "      <td>5</td>\n",
       "      <td>0</td>\n",
       "      <td>1</td>\n",
       "      <td>3</td>\n",
       "      <td>0</td>\n",
       "      <td>0</td>\n",
       "      <td>1</td>\n",
       "      <td>2</td>\n",
       "    </tr>\n",
       "    <tr>\n",
       "      <td>14497</td>\n",
       "      <td>0</td>\n",
       "      <td>2</td>\n",
       "      <td>27</td>\n",
       "      <td>4</td>\n",
       "      <td>549</td>\n",
       "      <td>16</td>\n",
       "      <td>63</td>\n",
       "      <td>282</td>\n",
       "      <td>80</td>\n",
       "      <td>59</td>\n",
       "      <td>...</td>\n",
       "      <td>1000000</td>\n",
       "      <td>0</td>\n",
       "      <td>5</td>\n",
       "      <td>0</td>\n",
       "      <td>1</td>\n",
       "      <td>3</td>\n",
       "      <td>1</td>\n",
       "      <td>1</td>\n",
       "      <td>1</td>\n",
       "      <td>2</td>\n",
       "    </tr>\n",
       "  </tbody>\n",
       "</table>\n",
       "<p>14498 rows × 23 columns</p>\n",
       "</div>"
      ],
      "text/plain": [
       "       Children  Deaths/1M  Age  Coma score  Diuresis  Platelets  HBB  \\\n",
       "0             2          1   52           3      1692        153  196   \n",
       "1             2          1   53          11      1783         95  138   \n",
       "2             2          1   35           9      1919         40  166   \n",
       "3             2          1   31          12       898         78   83   \n",
       "4             2          1   51           6       998        109  207   \n",
       "...         ...        ...  ...         ...       ...        ...  ...   \n",
       "14493         0          2   55           5      1818         16   36   \n",
       "14494         0          2   44           4       867         22   29   \n",
       "14495         0          2   46           6       702         15   28   \n",
       "14496         0          2   34           5       758         31   24   \n",
       "14497         0          2   27           4       549         16   63   \n",
       "\n",
       "       d-dimer  Heart rate  HDL cholesterol  ...   salary  FT/month  Region  \\\n",
       "0          240          85               53  ...  1300000         1       0   \n",
       "1          241          81               61  ...  1300000         1       0   \n",
       "2          236          88               47  ...  2000000         2       0   \n",
       "3          211          87               52  ...   600000         2       0   \n",
       "4          312          94               68  ...  1500000         1       0   \n",
       "...        ...         ...              ...  ...      ...       ...     ...   \n",
       "14493      346          66               45  ...   800000         2       5   \n",
       "14494      278          94               37  ...  1800000         2       5   \n",
       "14495      294          73               56  ...   800000         1       5   \n",
       "14496      227          83               60  ...  1800000         2       5   \n",
       "14497      282          80               59  ...  1000000         0       5   \n",
       "\n",
       "       Gender  Married  Occupation  Mode_transport  comorbidity  \\\n",
       "0           0        1           3               1            1   \n",
       "1           1        1           5               2            1   \n",
       "2           0        1           8               0            1   \n",
       "3           0        1           8               0            3   \n",
       "4           0        1           0               0            1   \n",
       "...       ...      ...         ...             ...          ...   \n",
       "14493       1        1           1               2            0   \n",
       "14494       0        1           2               0            3   \n",
       "14495       1        1           0               1            3   \n",
       "14496       0        1           3               0            0   \n",
       "14497       0        1           3               1            1   \n",
       "\n",
       "       Pulmonary score  cardiological pressure  \n",
       "0                    1                       2  \n",
       "1                    1                       2  \n",
       "2                    0                       3  \n",
       "3                    2                       0  \n",
       "4                    1                       2  \n",
       "...                ...                     ...  \n",
       "14493                3                       1  \n",
       "14494                2                       0  \n",
       "14495                2                       0  \n",
       "14496                1                       2  \n",
       "14497                1                       2  \n",
       "\n",
       "[14498 rows x 23 columns]"
      ]
     },
     "execution_count": 393,
     "metadata": {},
     "output_type": "execute_result"
    }
   ],
   "source": [
    "x_test"
   ]
  },
  {
   "cell_type": "code",
   "execution_count": 394,
   "metadata": {},
   "outputs": [],
   "source": [
    "pred_27th= XGB_model2.predict(x_test)"
   ]
  },
  {
   "cell_type": "code",
   "execution_count": 395,
   "metadata": {},
   "outputs": [],
   "source": [
    "pred_27th_t= np.exp(pred_y2)"
   ]
  },
  {
   "cell_type": "code",
   "execution_count": 396,
   "metadata": {},
   "outputs": [
    {
     "data": {
      "text/plain": [
       "array([52.372   , 52.944073, 52.774418, ..., 44.05356 , 44.171223,\n",
       "       43.652576], dtype=float32)"
      ]
     },
     "execution_count": 396,
     "metadata": {},
     "output_type": "execute_result"
    }
   ],
   "source": [
    "pred_27th_t"
   ]
  },
  {
   "cell_type": "code",
   "execution_count": 368,
   "metadata": {},
   "outputs": [],
   "source": [
    "infect_prob_27= pd.DataFrame({\n",
    "        \"people_ID\": data_test[\"people_ID\"],\n",
    "        \"Infect_Prob_27th\": pred_27th_t})"
   ]
  },
  {
   "cell_type": "code",
   "execution_count": 370,
   "metadata": {},
   "outputs": [],
   "source": [
    "infect_prob_27.to_csv('D:/Downloads/Infect_prob_27.csv',index=False)"
   ]
  },
  {
   "cell_type": "code",
   "execution_count": 397,
   "metadata": {},
   "outputs": [],
   "source": [
    "X_test= x_test.copy()"
   ]
  },
  {
   "cell_type": "code",
   "execution_count": 398,
   "metadata": {},
   "outputs": [
    {
     "name": "stderr",
     "output_type": "stream",
     "text": [
      "D:\\Python\\lib\\site-packages\\ipykernel_launcher.py:2: SettingWithCopyWarning: \n",
      "A value is trying to be set on a copy of a slice from a DataFrame\n",
      "\n",
      "See the caveats in the documentation: http://pandas.pydata.org/pandas-docs/stable/user_guide/indexing.html#returning-a-view-versus-a-copy\n",
      "  \n"
     ]
    }
   ],
   "source": [
    "for i in range(14498):\n",
    "    X_test['Diuresis'][i]= diuresis_27['Diuresis'][i]"
   ]
  },
  {
   "cell_type": "code",
   "execution_count": 399,
   "metadata": {},
   "outputs": [],
   "source": [
    "pred_n= XGB_model2.predict(X_test)"
   ]
  },
  {
   "cell_type": "code",
   "execution_count": 400,
   "metadata": {},
   "outputs": [
    {
     "data": {
      "text/plain": [
       "array([52.42346 , 51.709797, 52.56937 , ..., 40.56848 , 43.77589 ,\n",
       "       39.391174], dtype=float32)"
      ]
     },
     "execution_count": 400,
     "metadata": {},
     "output_type": "execute_result"
    }
   ],
   "source": [
    "pred_n_t= np.exp(pred_n)\n",
    "pred_n_t"
   ]
  },
  {
   "cell_type": "code",
   "execution_count": 401,
   "metadata": {},
   "outputs": [
    {
     "data": {
      "text/plain": [
       "0        1692\n",
       "1        1783\n",
       "2        1919\n",
       "3         898\n",
       "4         998\n",
       "         ... \n",
       "14493    1818\n",
       "14494     867\n",
       "14495     702\n",
       "14496     758\n",
       "14497     549\n",
       "Name: Diuresis, Length: 14498, dtype: int64"
      ]
     },
     "execution_count": 401,
     "metadata": {},
     "output_type": "execute_result"
    }
   ],
   "source": [
    "X_test['Diuresis']"
   ]
  },
  {
   "cell_type": "code",
   "execution_count": 404,
   "metadata": {},
   "outputs": [],
   "source": [
    "Infect_prob_27t= pd.DataFrame({\n",
    "        \"people_ID\": data_test[\"people_ID\"],\n",
    "        \"Infect_Prob_27th\": pred_n_t})"
   ]
  },
  {
   "cell_type": "code",
   "execution_count": 405,
   "metadata": {},
   "outputs": [],
   "source": [
    "Infect_prob_27t.to_csv('D:/Downloads/infect_prob_27th.csv',index=False)"
   ]
  },
  {
   "cell_type": "code",
   "execution_count": null,
   "metadata": {},
   "outputs": [],
   "source": []
  }
 ],
 "metadata": {
  "kernelspec": {
   "display_name": "Python 3",
   "language": "python",
   "name": "python3"
  },
  "language_info": {
   "codemirror_mode": {
    "name": "ipython",
    "version": 3
   },
   "file_extension": ".py",
   "mimetype": "text/x-python",
   "name": "python",
   "nbconvert_exporter": "python",
   "pygments_lexer": "ipython3",
   "version": "3.7.4"
  }
 },
 "nbformat": 4,
 "nbformat_minor": 2
}
